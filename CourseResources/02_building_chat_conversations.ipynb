{
 "cells": [
  {
   "cell_type": "markdown",
   "id": "43466317-31c0-4093-b6cd-b26890697dad",
   "metadata": {},
   "source": [
    "## Building Chat Conversations\n",
    "\n",
    "Google AI Studio and the Gemini API aren't available in all countries.\n",
    "Check if the Gemini API is available in your country at this address: \n",
    "https://ai.google.dev/available_regions\n"
   ]
  },
  {
   "cell_type": "code",
   "execution_count": 1,
   "id": "a62d8715-277d-46a4-ae0c-16e2b35ac613",
   "metadata": {},
   "outputs": [],
   "source": [
    "# importing the libraries.\n",
    "import google.generativeai as genai\n",
    "import os\n",
    "from dotenv import load_dotenv, find_dotenv\n",
    "\n",
    "# loading the API key from .env and authenticating to Gemini.\n",
    "load_dotenv(find_dotenv(), override=True)\n",
    "os.environ.get('GOOGLE_API_KEY')\n",
    "\n",
    "# configuring the API key.\n",
    "genai.configure(api_key=os.environ.get('GOOGLE_API_KEY'))"
   ]
  },
  {
   "cell_type": "code",
   "execution_count": 3,
   "id": "ea7bf083-3042-4165-91b2-75e7172b3128",
   "metadata": {},
   "outputs": [
    {
     "data": {
      "text/plain": [
       "ChatSession(\n",
       "    model=genai.GenerativeModel(\n",
       "        model_name='models/gemini-1.5-flash',\n",
       "        generation_config={},\n",
       "        safety_settings={},\n",
       "        tools=None,\n",
       "        system_instruction=None,\n",
       "        cached_content=None\n",
       "    ),\n",
       "    history=[]\n",
       ")"
      ]
     },
     "execution_count": 3,
     "metadata": {},
     "output_type": "execute_result"
    }
   ],
   "source": [
    "model = genai.GenerativeModel('gemini-1.5-flash')\n",
    "\n",
    "# creating a ChatSession object\n",
    "# use the model.start_chat() method instead of model.generate_content() to start a multi-turn conversation\n",
    "chat = model.start_chat(history=[])  \n",
    "chat"
   ]
  },
  {
   "cell_type": "code",
   "execution_count": 4,
   "id": "4f249923-51fa-445d-9c13-c6d4638b1c18",
   "metadata": {},
   "outputs": [],
   "source": [
    "response = chat.send_message('In one paragraph, explain how the Internet works to a beginner.')"
   ]
  },
  {
   "cell_type": "code",
   "execution_count": 5,
   "id": "62413701-f982-4485-be72-079b59616190",
   "metadata": {
    "scrolled": true
   },
   "outputs": [
    {
     "data": {
      "text/plain": [
       "[parts {\n",
       "   text: \"In one paragraph, explain how the Internet works to a beginner.\"\n",
       " }\n",
       " role: \"user\",\n",
       " parts {\n",
       "   text: \"Imagine the internet as a giant network of interconnected computers, like a massive web.  When you type a website address into your browser, it sends a request to a server, which is like a computer that stores the website. That server responds by sending the website\\'s data back to your computer, which then translates it into the text, images, and videos you see on the screen.  This all happens incredibly quickly thanks to cables and wireless signals that carry information across the globe, allowing you to connect with websites and people all over the world. \\n\"\n",
       " }\n",
       " role: \"model\"]"
      ]
     },
     "execution_count": 5,
     "metadata": {},
     "output_type": "execute_result"
    }
   ],
   "source": [
    "# displaying the entire chat history\n",
    "chat.history"
   ]
  },
  {
   "cell_type": "code",
   "execution_count": 6,
   "id": "19806e48-20d8-42d0-8266-ae81547862b9",
   "metadata": {
    "scrolled": true
   },
   "outputs": [
    {
     "data": {
      "text/plain": [
       "parts {\n",
       "  text: \"In one paragraph, explain how the Internet works to a beginner.\"\n",
       "}\n",
       "role: \"user\""
      ]
     },
     "execution_count": 6,
     "metadata": {},
     "output_type": "execute_result"
    }
   ],
   "source": [
    "# displaying the first user's question\n",
    "chat.history[0]"
   ]
  },
  {
   "cell_type": "code",
   "execution_count": 7,
   "id": "ed52f2f9-b6af-44c8-9dbd-571b36b0ac71",
   "metadata": {
    "scrolled": true
   },
   "outputs": [
    {
     "data": {
      "text/plain": [
       "parts {\n",
       "  text: \"Imagine the internet as a giant network of interconnected computers, like a massive web.  When you type a website address into your browser, it sends a request to a server, which is like a computer that stores the website. That server responds by sending the website\\'s data back to your computer, which then translates it into the text, images, and videos you see on the screen.  This all happens incredibly quickly thanks to cables and wireless signals that carry information across the globe, allowing you to connect with websites and people all over the world. \\n\"\n",
       "}\n",
       "role: \"model\""
      ]
     },
     "execution_count": 7,
     "metadata": {},
     "output_type": "execute_result"
    }
   ],
   "source": [
    "# displaying the model's response\n",
    "chat.history[1]"
   ]
  },
  {
   "cell_type": "code",
   "execution_count": 8,
   "id": "789e1ae9-7dc1-4e22-91e7-e0ee701344ea",
   "metadata": {
    "scrolled": true
   },
   "outputs": [
    {
     "data": {
      "text/plain": [
       "\"Imagine the internet as a giant network of interconnected computers, like a massive web.  When you type a website address into your browser, it sends a request to a server, which is like a computer that stores the website. That server responds by sending the website's data back to your computer, which then translates it into the text, images, and videos you see on the screen.  This all happens incredibly quickly thanks to cables and wireless signals that carry information across the globe, allowing you to connect with websites and people all over the world. \\n\""
      ]
     },
     "execution_count": 8,
     "metadata": {},
     "output_type": "execute_result"
    }
   ],
   "source": [
    "chat.history[1].parts[0].text"
   ]
  },
  {
   "cell_type": "code",
   "execution_count": 9,
   "id": "f7f74365-cb08-4818-bf60-d44ca9a687be",
   "metadata": {},
   "outputs": [],
   "source": [
    "# sending another prompt for the same conversation\n",
    "response = chat.send_message('Okay, how about a more detailed explanation about the IP addresses?')"
   ]
  },
  {
   "cell_type": "code",
   "execution_count": 10,
   "id": "5237a7ff-8696-4345-9e2e-c1eddc701fb6",
   "metadata": {
    "scrolled": true
   },
   "outputs": [
    {
     "data": {
      "text/plain": [
       "[parts {\n",
       "   text: \"In one paragraph, explain how the Internet works to a beginner.\"\n",
       " }\n",
       " role: \"user\",\n",
       " parts {\n",
       "   text: \"Imagine the internet as a giant network of interconnected computers, like a massive web.  When you type a website address into your browser, it sends a request to a server, which is like a computer that stores the website. That server responds by sending the website\\'s data back to your computer, which then translates it into the text, images, and videos you see on the screen.  This all happens incredibly quickly thanks to cables and wireless signals that carry information across the globe, allowing you to connect with websites and people all over the world. \\n\"\n",
       " }\n",
       " role: \"model\",\n",
       " parts {\n",
       "   text: \"Okay, how about a more detailed explanation about the IP addresses?\"\n",
       " }\n",
       " role: \"user\",\n",
       " parts {\n",
       "   text: \"Imagine each computer on the internet as a house with a unique address. This is what an IP address does – it provides a unique identifier for every device connected to the internet.  Just like your house address helps the postal service deliver mail, an IP address helps data packets find their way to the correct destination. \\n\\nThere are two main types of IP addresses: IPv4 and IPv6.  IPv4 uses a 32-bit address, which means it can have billions of unique addresses. However, with the growing number of internet-connected devices, we are running out of IPv4 addresses.  IPv6 uses a 128-bit address, providing a significantly larger pool of possible addresses to accommodate the ever-increasing number of devices coming online. \\n\\nIP addresses are constantly being used behind the scenes every time you browse the internet.  When you visit a website, your computer sends a request to the website\\'s server using its own IP address. The server then uses that IP address to send back the requested information, like the website\\'s content. This back-and-forth communication happens seamlessly, thanks to the unique identification provided by IP addresses. \\n\"\n",
       " }\n",
       " role: \"model\"]"
      ]
     },
     "execution_count": 10,
     "metadata": {},
     "output_type": "execute_result"
    }
   ],
   "source": [
    "chat.history"
   ]
  },
  {
   "cell_type": "code",
   "execution_count": 12,
   "id": "88af2f9f-7628-461f-b064-b093de975b0b",
   "metadata": {
    "scrolled": true
   },
   "outputs": [
    {
     "data": {
      "text/plain": [
       "[parts {\n",
       "   text: \"In one paragraph, explain how the Internet works to a beginner.\"\n",
       " }\n",
       " role: \"user\",\n",
       " parts {\n",
       "   text: \"Imagine the internet as a giant network of interconnected computers, like a massive web.  When you type a website address into your browser, it sends a request to a server, which is like a computer that stores the website. That server responds by sending the website\\'s data back to your computer, which then translates it into the text, images, and videos you see on the screen.  This all happens incredibly quickly thanks to cables and wireless signals that carry information across the globe, allowing you to connect with websites and people all over the world. \\n\"\n",
       " }\n",
       " role: \"model\",\n",
       " parts {\n",
       "   text: \"Okay, how about a more detailed explanation about the IP addresses?\"\n",
       " }\n",
       " role: \"user\",\n",
       " parts {\n",
       "   text: \"Imagine each computer on the internet as a house with a unique address. This is what an IP address does – it provides a unique identifier for every device connected to the internet.  Just like your house address helps the postal service deliver mail, an IP address helps data packets find their way to the correct destination. \\n\\nThere are two main types of IP addresses: IPv4 and IPv6.  IPv4 uses a 32-bit address, which means it can have billions of unique addresses. However, with the growing number of internet-connected devices, we are running out of IPv4 addresses.  IPv6 uses a 128-bit address, providing a significantly larger pool of possible addresses to accommodate the ever-increasing number of devices coming online. \\n\\nIP addresses are constantly being used behind the scenes every time you browse the internet.  When you visit a website, your computer sends a request to the website\\'s server using its own IP address. The server then uses that IP address to send back the requested information, like the website\\'s content. This back-and-forth communication happens seamlessly, thanks to the unique identification provided by IP addresses. \\n\"\n",
       " }\n",
       " role: \"model\",\n",
       " parts {\n",
       "   text: \"What have I asked you so far\"\n",
       " }\n",
       " role: \"user\",\n",
       " parts {\n",
       "   text: \"You\\'ve asked me two questions:\\n\\n1. **To explain how the internet works to a beginner.** You wanted a simple explanation focusing on the core concept of interconnected computers and data exchange. \\n2. **To explain IP addresses in more detail.**  You wanted to know how IP addresses function as unique identifiers for devices on the internet, the difference between IPv4 and IPv6, and how they are used in communication. \\n\"\n",
       " }\n",
       " role: \"model\",\n",
       " parts {\n",
       "   text: \"What have I asked you so far\"\n",
       " }\n",
       " role: \"user\",\n",
       " parts {\n",
       "   text: \"You\\'ve asked me two questions:\\n\\n1. **To explain how the internet works to a beginner.** You wanted a simple explanation focusing on the core concept of interconnected computers and data exchange. \\n2. **To explain IP addresses in more detail.**  You wanted to know how IP addresses function as unique identifiers for devices on the internet, the difference between IPv4 and IPv6, and how they are used in communication. \\n\"\n",
       " }\n",
       " role: \"model\"]"
      ]
     },
     "execution_count": 12,
     "metadata": {},
     "output_type": "execute_result"
    }
   ],
   "source": [
    "# sending another prompt for the same conversation\n",
    "response = chat.send_message('What have I asked you so far')\n",
    "chat.history"
   ]
  },
  {
   "cell_type": "code",
   "execution_count": 13,
   "id": "4a5b8eb7-42d6-40ea-af07-6c48a9fe4e82",
   "metadata": {
    "scrolled": true
   },
   "outputs": [
    {
     "name": "stdout",
     "output_type": "stream",
     "text": [
      "You've asked me two questions:\n",
      "\n",
      "1. **To explain how the internet works to a beginner.** You wanted a simple explanation focusing on the core concept of interconnected computers and data exchange. \n",
      "2. **To explain IP addresses in more detail.**  You wanted to know how IP addresses function as unique identifiers for devices on the internet, the difference between IPv4 and IPv6, and how they are used in communication. \n",
      "\n"
     ]
    }
   ],
   "source": [
    "# displaying the last answer\n",
    "print(chat.history[-1].parts[0].text)"
   ]
  },
  {
   "cell_type": "code",
   "execution_count": 14,
   "id": "9fb05515-0ce8-42a3-a65e-02ae84dea3d0",
   "metadata": {
    "scrolled": true
   },
   "outputs": [
    {
     "name": "stdout",
     "output_type": "stream",
     "text": [
      "User: In one paragraph, explain how the Internet works to a beginner.\n",
      "----------------------------------------------------------------------------------------------------\n",
      "Model: Imagine the internet as a giant network of interconnected computers, like a massive web.  When you type a website address into your browser, it sends a request to a server, which is like a computer that stores the website. That server responds by sending the website's data back to your computer, which then translates it into the text, images, and videos you see on the screen.  This all happens incredibly quickly thanks to cables and wireless signals that carry information across the globe, allowing you to connect with websites and people all over the world. \n",
      "\n",
      "----------------------------------------------------------------------------------------------------\n",
      "User: Okay, how about a more detailed explanation about the IP addresses?\n",
      "----------------------------------------------------------------------------------------------------\n",
      "Model: Imagine each computer on the internet as a house with a unique address. This is what an IP address does – it provides a unique identifier for every device connected to the internet.  Just like your house address helps the postal service deliver mail, an IP address helps data packets find their way to the correct destination. \n",
      "\n",
      "There are two main types of IP addresses: IPv4 and IPv6.  IPv4 uses a 32-bit address, which means it can have billions of unique addresses. However, with the growing number of internet-connected devices, we are running out of IPv4 addresses.  IPv6 uses a 128-bit address, providing a significantly larger pool of possible addresses to accommodate the ever-increasing number of devices coming online. \n",
      "\n",
      "IP addresses are constantly being used behind the scenes every time you browse the internet.  When you visit a website, your computer sends a request to the website's server using its own IP address. The server then uses that IP address to send back the requested information, like the website's content. This back-and-forth communication happens seamlessly, thanks to the unique identification provided by IP addresses. \n",
      "\n",
      "----------------------------------------------------------------------------------------------------\n",
      "User: What have I asked you so far\n",
      "----------------------------------------------------------------------------------------------------\n",
      "Model: You've asked me two questions:\n",
      "\n",
      "1. **To explain how the internet works to a beginner.** You wanted a simple explanation focusing on the core concept of interconnected computers and data exchange. \n",
      "2. **To explain IP addresses in more detail.**  You wanted to know how IP addresses function as unique identifiers for devices on the internet, the difference between IPv4 and IPv6, and how they are used in communication. \n",
      "\n",
      "----------------------------------------------------------------------------------------------------\n",
      "User: What have I asked you so far\n",
      "----------------------------------------------------------------------------------------------------\n",
      "Model: You've asked me two questions:\n",
      "\n",
      "1. **To explain how the internet works to a beginner.** You wanted a simple explanation focusing on the core concept of interconnected computers and data exchange. \n",
      "2. **To explain IP addresses in more detail.**  You wanted to know how IP addresses function as unique identifiers for devices on the internet, the difference between IPv4 and IPv6, and how they are used in communication. \n",
      "\n",
      "----------------------------------------------------------------------------------------------------\n"
     ]
    }
   ],
   "source": [
    "# displaying the entire conversation using a for loop\n",
    "for item in chat.history:\n",
    "    print(f'{item.role.capitalize()}: {item.parts[0].text}')\n",
    "    print('-' * 100)"
   ]
  },
  {
   "cell_type": "code",
   "execution_count": 15,
   "id": "35f3b144-320a-4919-b668-89e3b325e6f1",
   "metadata": {},
   "outputs": [],
   "source": [
    "# Importing the libraries.\n",
    "import google.generativeai as genai\n",
    "import os\n",
    "from dotenv import load_dotenv, find_dotenv\n",
    "\n",
    "# Loading the API key and authenticating to Gemini.\n",
    "load_dotenv(find_dotenv(), override=True)\n",
    "os.environ.get('GOOGLE_API_KEY')\n",
    "\n",
    "# Configuring the API key.\n",
    "genai.configure(api_key=os.environ.get('GOOGLE_API_KEY'))\n"
   ]
  },
  {
   "cell_type": "code",
   "execution_count": 17,
   "id": "862d7a89-2c66-4759-8510-75ae31c59212",
   "metadata": {},
   "outputs": [
    {
     "name": "stdin",
     "output_type": "stream",
     "text": [
      "User:  Top 10 places to visit in Barcelona.\n"
     ]
    },
    {
     "name": "stdout",
     "output_type": "stream",
     "text": [
      "Model: ## Top 10 Places to Visit in Barcelona:\n",
      "\n",
      "**Must-Sees:**\n",
      "\n",
      "1. **Sagrada Familia:** Antoni Gaudí's masterpiece, this unfinished basilica is a stunning example of Catalan Modernism.  The intricate details, soaring towers, and vibrant colors will leave you speechless.\n",
      "2. **Park Güell:** Another Gaudí marvel, this whimsical park is a playground for the imagination. Enjoy the mosaic-covered benches, whimsical houses, and breathtaking views of the city.\n",
      "3. **La Rambla:** This bustling pedestrianized street is a must-visit for its street performers, vibrant shops, and delicious tapas bars. It stretches from Plaça de Catalunya to the Christopher Columbus Monument.\n",
      "4. **Gothic Quarter:** Step back in time in this charming district filled with medieval architecture, hidden squares, and narrow alleyways. Explore the Barcelona Cathedral and the Picasso Museum.\n",
      "5. **Barceloneta Beach:**  Enjoy the sun, sand, and surf at this iconic beach. Relax on the beach, grab a drink at one of the many beach bars, or try out some water sports.\n",
      "\n",
      "**Hidden Gems:**\n",
      "\n",
      "6. **Palau de la Música Catalana:** This stunning concert hall, a UNESCO World Heritage Site, is known for its intricate mosaics, stained glass windows, and excellent acoustics.\n",
      "7. **Montjuïc:** This hilltop park offers breathtaking panoramic views of the city. Explore the Olympic Stadium, the Magic Fountain show, and the Joan Miró Foundation.\n",
      "8. **Camp Nou:** Home to FC Barcelona, this iconic stadium is a must-visit for football fans. Take a tour, visit the museum, and experience the atmosphere of a true footballing giant.\n",
      "9. **Poble Espanyol:**  This open-air museum showcases the architecture of Spain's different regions. Explore the charming streets, watch artisans at work, and enjoy the beautiful gardens.\n",
      "10. **Caves of Montserrat:** Venture outside Barcelona to experience the awe-inspiring Montserrat monastery perched atop a mountain. Climb the 150 steps to the Virgin of Montserrat and enjoy the breathtaking views.\n",
      "\n",
      "**Bonus:**\n",
      "\n",
      "* **Mercado de la Boqueria:**  This bustling food market offers a dazzling array of fresh produce, seafood, meats, and other delicacies. It's a feast for the senses and a great place to sample some local specialties.\n",
      "\n",
      "**Tip:** Barcelona is a walkable city, but consider using the metro or buses for longer distances. \n",
      "\n",
      "\n",
      "****************************************************************************************************\n",
      "\n"
     ]
    },
    {
     "name": "stdin",
     "output_type": "stream",
     "text": [
      "User:  Tell me more about the first one.\n"
     ]
    },
    {
     "name": "stdout",
     "output_type": "stream",
     "text": [
      "Model: The Sagrada Família is more than just a church, it's a monument to artistic vision and enduring faith. Designed by Antoni Gaudí, the Catalan architect known for his unique style of Modernism, this basilica is a masterpiece that's still under construction over a century after his death.\n",
      "\n",
      "**Here are some details about the Sagrada Família that might pique your interest:**\n",
      "\n",
      "* **A lifetime of work:** Gaudí dedicated over 40 years of his life to this project, starting in 1882, and it's expected to be completed around 2026.  He poured his imagination into every detail, from the intricate façades to the towering spires.\n",
      "* **A fusion of architectural styles:** The Sagrada Família blends Gothic, Art Nouveau, and Gaudí's own signature style, creating a truly unique and breathtaking experience. \n",
      "* **Symbolism and religious allegory:**  The basilica's design incorporates numerous symbolic elements, referencing the life of Jesus Christ and the Christian faith. \n",
      "* **The Nativity Façade:** This vibrant façade is the most complete part of the basilica, bursting with detail and color.  It's a fascinating mix of sculptures and mosaics that depict the birth of Jesus. \n",
      "* **The Passion Façade:**  This dramatic façade contrasts the Nativity Façade with its somber and austere tone.  It depicts the suffering and crucifixion of Christ.\n",
      "* **The Glory Façade:**  This is the final façade, still under construction, and will depict the resurrection of Jesus Christ and the final judgment.\n",
      "* **The towers:** The basilica will eventually boast 18 towering spires, representing the 12 apostles, the four evangelists, the Virgin Mary, and Jesus Christ.\n",
      "\n",
      "**Here's why you should visit the Sagrada Família:**\n",
      "\n",
      "* **It's truly a breathtaking sight:** The architectural details are mind-boggling, the interior is filled with light, and the whole experience is simply awe-inspiring.\n",
      "* **It's a testament to Gaudí's genius:**  Even though it's unfinished, the Sagrada Família is already a masterpiece, showcasing his vision and talent.\n",
      "* **It's a cultural landmark:** The basilica is one of Barcelona's most famous attractions, and it's a must-see for any visitor to the city.\n",
      "\n",
      "**Tip:** \n",
      "* Book your tickets online in advance to skip the long lines.  Consider purchasing a guided tour to get a deeper understanding of the history and symbolism behind the basilica.\n",
      "\n",
      "\n",
      "****************************************************************************************************\n",
      "\n"
     ]
    },
    {
     "name": "stdin",
     "output_type": "stream",
     "text": [
      "User:  quit\n"
     ]
    },
    {
     "name": "stdout",
     "output_type": "stream",
     "text": [
      "Quitting ...\n",
      "Bye-bye!\n"
     ]
    }
   ],
   "source": [
    "import time\n",
    "model = genai.GenerativeModel('gemini-1.5-flash')\n",
    "chat = model.start_chat(history=[])\n",
    "while True:\n",
    "    prompt = input('User: ')\n",
    "    if prompt.lower() not in ['exit', 'quit', 'bye']:\n",
    "        response = chat.send_message(prompt)\n",
    "        print(f'{chat.history[-1].role.capitalize()}: {chat.history[-1].parts[0].text}')\n",
    "        print('\\n' + '*' * 100 + '\\n')\n",
    "    else:\n",
    "        print('Quitting ...')\n",
    "        time.sleep(2)\n",
    "        print('Bye-bye!')\n",
    "        break\n",
    "        "
   ]
  },
  {
   "cell_type": "code",
   "execution_count": null,
   "id": "3b30f58c-e44d-4465-bbf3-711a142fcfca",
   "metadata": {},
   "outputs": [],
   "source": []
  },
  {
   "cell_type": "code",
   "execution_count": null,
   "id": "e110bda9-78bc-4c23-93cf-6dec6fa2f330",
   "metadata": {},
   "outputs": [],
   "source": []
  }
 ],
 "metadata": {
  "kernelspec": {
   "display_name": "Python 3 (ipykernel)",
   "language": "python",
   "name": "python3"
  },
  "language_info": {
   "codemirror_mode": {
    "name": "ipython",
    "version": 3
   },
   "file_extension": ".py",
   "mimetype": "text/x-python",
   "name": "python",
   "nbconvert_exporter": "python",
   "pygments_lexer": "ipython3",
   "version": "3.12.6"
  },
  "widgets": {
   "application/vnd.jupyter.widget-state+json": {
    "state": {},
    "version_major": 2,
    "version_minor": 0
   }
  }
 },
 "nbformat": 4,
 "nbformat_minor": 5
}
