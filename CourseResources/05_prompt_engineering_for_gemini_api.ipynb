{
 "cells": [
  {
   "cell_type": "markdown",
   "id": "fc5f908f-540a-4fe7-aa4a-b79e870a1411",
   "metadata": {},
   "source": [
    "# Prompt Engineering for Gemini API Developers\n",
    "\n",
    "Google AI Studio and the Gemini API aren't available in all countries.\n",
    "Check if the Gemini API is available in your country at this address: \n",
    "https://ai.google.dev/available_regions"
   ]
  },
  {
   "cell_type": "code",
   "execution_count": 1,
   "id": "22acd320-1932-4ad6-899f-8d9a4e0f7466",
   "metadata": {},
   "outputs": [],
   "source": [
    "import os\n",
    "from dotenv import load_dotenv, find_dotenv\n",
    "# load environment variables from .env file (containing API key)\n",
    "load_dotenv(find_dotenv(), override=True)\n",
    "import google.generativeai as genai  # Import library for Gemini Pro API\n",
    "\n",
    "# function to generate a text response using Gemini Pro API\n",
    "def generate_response(prompt, temperature=1):\n",
    "    # configure API key\n",
    "    genai.configure(api_key=os.environ.get('GOOGLE_API_KEY'))\n",
    "    \n",
    "    # select the model with a generation configuration\n",
    "    model = genai.GenerativeModel('gemini-1.5-flash')\n",
    "    \n",
    "    generation_config = genai.types.GenerationConfig(\n",
    "        temperature=temperature, top_p=1, top_k=1\n",
    "    )\n",
    "    # make an generation API call to Gemini\n",
    "    response = model.generate_content(prompt, generation_config=generation_config)\n",
    "    # return the text responsed\n",
    "    return response.text"
   ]
  },
  {
   "cell_type": "code",
   "execution_count": 2,
   "id": "c9f16969-25eb-4f21-99a4-b5c3b7af48c2",
   "metadata": {
    "scrolled": true
   },
   "outputs": [
    {
     "name": "stdout",
     "output_type": "stream",
     "text": [
      "```python\n",
      "def factorial(n):\n",
      "  \"\"\"\n",
      "  Calculates the factorial of a non-negative integer.\n",
      "\n",
      "  Args:\n",
      "    n: The integer to calculate the factorial of.\n",
      "\n",
      "  Returns:\n",
      "    The factorial of n, or 1 if n is 0.\n",
      "\n",
      "  Raises:\n",
      "    ValueError: If n is negative.\n",
      "  \"\"\"\n",
      "  if n < 0:\n",
      "    raise ValueError(\"Factorial is not defined for negative numbers.\")\n",
      "  elif n == 0:\n",
      "    return 1\n",
      "  else:\n",
      "    fact = 1\n",
      "    for i in range(1, n + 1):\n",
      "      fact *= i\n",
      "    return fact\n",
      "\n",
      "# Example usage\n",
      "print(factorial(5)) # Output: 120\n",
      "print(factorial(0)) # Output: 1\n",
      "```\n",
      "\n",
      "This function `factorial(n)` takes an integer `n` as input:\n",
      "\n",
      "1. **Error Handling:** It first checks if `n` is negative. If so, it raises a `ValueError` as factorials are not defined for negative numbers.\n",
      "2. **Base Case:** If `n` is 0, it returns 1, as the factorial of 0 is 1.\n",
      "3. **Iterative Calculation:** For any other positive integer `n`, it iteratively calculates the factorial by multiplying `fact` (initialized to 1) with each number from 1 to `n`.\n",
      "4. **Return Result:** Finally, it returns the calculated factorial (`fact`).\n",
      "\n",
      "This implementation is efficient as it avoids unnecessary recursion. The function utilizes a loop for iterating and calculating the factorial, which contributes to its clear, readable structure. \n",
      "\n"
     ]
    }
   ],
   "source": [
    "print(generate_response('Create a Python function that calculates the factorial.'))"
   ]
  },
  {
   "cell_type": "markdown",
   "id": "ea13d898-1178-458c-b42b-5cd3d355a649",
   "metadata": {},
   "source": [
    "# Guidelines for effective prompting"
   ]
  },
  {
   "cell_type": "markdown",
   "id": "3d38c23a-b258-449a-88a5-6224fab005e1",
   "metadata": {},
   "source": [
    "##  Write clear and specific instructions (most important)"
   ]
  },
  {
   "cell_type": "code",
   "execution_count": 3,
   "id": "5044eb20-99a0-46b5-967d-dff61b882eb7",
   "metadata": {},
   "outputs": [
    {
     "name": "stdout",
     "output_type": "stream",
     "text": [
      "Nanotechnology, by manipulating matter at the atomic level, is revolutionizing various industries, including healthcare. It offers innovative solutions to global challenges, particularly in diagnostics and therapeutics. Nanoparticles, engineered to target specific tissues, enable precise drug delivery, minimizing side effects and maximizing treatment efficacy. Additionally, nanotechnology-based imaging techniques provide unprecedented detail at the cellular level, allowing for early disease detection and monitoring, leading to better management and patient outcomes. \n",
      "\n"
     ]
    }
   ],
   "source": [
    "text='''Embracing the atomic and molecular scale, nanotechnology stands as a transformative force, \n",
    "poised to reshape various industries and aspects of our lives. By manipulating matter at its most fundamental\n",
    "level, scientists and engineers are unlocking extraordinary properties, paving the way for innovative\n",
    "solutions to global challenges.\n",
    "In the healthcare domain, nanotechnology promises to revolutionize diagnostic and therapeutic approaches.\n",
    "Nanoparticles, tiny marvels measuring just a few nanometers in diameter, hold immense potential for targeted\n",
    "drug delivery. By skillfully engineering these particles, scientists can effectively transport therapeutic\n",
    "agents directly to diseased tissues, minimizing side effects and enhancing treatment efficacy.\n",
    "Additionally, nanotechnology-based imaging techniques provide unprecedented levels of cellular detail,\n",
    "enabling early detection and monitoring of diseases, transforming disease management and improving\n",
    "patient outcomes.'''\n",
    "\n",
    "prompt = f'''\n",
    "Summarize this text: {text}\n",
    "'''\n",
    "output = generate_response(prompt)\n",
    "print(output)"
   ]
  },
  {
   "cell_type": "markdown",
   "id": "f4792491-9fd3-42bc-a427-562377dc0442",
   "metadata": {},
   "source": [
    "### Tactic #1: \n",
    "Put instructions at the beginning of the prompt, each on their own line, and use delimiters to clearly indicate distinct parts of the prompt.\n",
    "\n",
    "Delimiters: **```, \"\"\", {}**"
   ]
  },
  {
   "cell_type": "code",
   "execution_count": 4,
   "id": "ce8d736d-02a4-4737-8aad-e19470afb20c",
   "metadata": {},
   "outputs": [
    {
     "name": "stdout",
     "output_type": "stream",
     "text": [
      "Nanotechnology is a revolutionary field that manipulates matter at the atomic and molecular level, leading to innovative solutions to global challenges. In healthcare, it promises to revolutionize diagnostics and therapeutics through targeted drug delivery with nanoparticles and advanced imaging techniques for early disease detection and monitoring.\n",
      "\n",
      "## German translation:\n",
      "\n",
      "Nanotechnologie ist ein revolutionäres Feld, das Materie auf atomarer und molekularer Ebene manipuliert und zu innovativen Lösungen für globale Herausforderungen führt. Im Gesundheitswesen verspricht es, die Diagnostik und Therapie durch gezielte Medikamentenverabreichung mit Nanopartikeln und fortschrittliche Bildgebungstechniken zur Früherkennung und -überwachung von Krankheiten zu revolutionieren. \n",
      "\n"
     ]
    }
   ],
   "source": [
    "prompt = f'''\n",
    "Summarize the text delimited by triple backtics.\n",
    "Translate the summary from English to German.\n",
    "Text: ```{text}```\n",
    "'''\n",
    "output = generate_response(prompt)\n",
    "print(output)"
   ]
  },
  {
   "cell_type": "markdown",
   "id": "cc69afa2-2912-4e51-b222-0f2c8e894a29",
   "metadata": {},
   "source": [
    "### Tactic #2\n",
    "\n",
    "Be specific, descriptive and as detailed as possible about the desired outcome, format or length."
   ]
  },
  {
   "cell_type": "code",
   "execution_count": 5,
   "id": "cee430b5-86c2-4d5c-b0cf-7ccda3536641",
   "metadata": {},
   "outputs": [
    {
     "name": "stdout",
     "output_type": "stream",
     "text": [
      "Nanotechnology, manipulating matter at the atomic level, revolutionizes industries by allowing for the development of innovative solutions, especially in healthcare. Nanoparticles enable targeted drug delivery and advanced imaging techniques, improving diagnosis, treatment, and patient outcomes. \n",
      "\n"
     ]
    }
   ],
   "source": [
    "prompt = f'''\n",
    "Summarize the text delimited by triple backtics in at most 40 words.\n",
    "Text: ```{text}```\n",
    "'''\n",
    "output = generate_response(prompt)\n",
    "print(output)"
   ]
  },
  {
   "cell_type": "code",
   "execution_count": 6,
   "id": "224065c2-c081-4640-8bf5-f9bf8a7c72e3",
   "metadata": {},
   "outputs": [
    {
     "name": "stdout",
     "output_type": "stream",
     "text": [
      "Summary length in words: 35\n"
     ]
    }
   ],
   "source": [
    "print(f'Summary length in words: {len(output.split())}')"
   ]
  },
  {
   "cell_type": "code",
   "execution_count": 7,
   "id": "6bfc70f7-d3cc-45e1-b5e8-ebe7aa25c5b0",
   "metadata": {},
   "outputs": [
    {
     "name": "stdout",
     "output_type": "stream",
     "text": [
      "Nanotechnology, by manipulating matter at the atomic and molecular level, holds immense potential to revolutionize multiple industries and aspects of our lives. \n",
      "\n",
      "* **Healthcare:**  Nanotechnology promises to revolutionize diagnostic and therapeutic approaches by enabling targeted drug delivery and providing unprecedented levels of cellular detail for early disease detection and monitoring.\n",
      "* **Targeted drug delivery:**  Nanoparticles, engineered to transport therapeutic agents directly to diseased tissues, minimize side effects and enhance treatment efficacy.\n",
      "* **Nanotechnology-based imaging:**  These techniques offer unparalleled cellular detail, facilitating early disease detection and monitoring, improving patient outcomes and disease management.\n",
      "\n",
      "Nanotechnology, by harnessing the power of the atomic and molecular scale, presents a transformative force with the potential to address global challenges and enhance human well-being. \n",
      "\n"
     ]
    }
   ],
   "source": [
    "prompt = f'''\n",
    "Summarize the text delimited by triple backtics.\n",
    "Begin the summary with an introductory sentence, followed by a bulleted list highlighting the key points.\n",
    "Conclude the summary with a sentence that synthesizes the central idea of the entire text.\n",
    "Text: ```{text}```\n",
    "'''\n",
    "output = generate_response(prompt)\n",
    "print(output)"
   ]
  },
  {
   "cell_type": "code",
   "execution_count": 8,
   "id": "239afd6f-0bb3-4198-8423-8c1dda773b74",
   "metadata": {
    "scrolled": true
   },
   "outputs": [
    {
     "name": "stdout",
     "output_type": "stream",
     "text": [
      "The code to read a text file depends on the programming language you're using. Here are some examples:\n",
      "\n",
      "**Python:**\n",
      "\n",
      "```python\n",
      "with open(\"file.txt\", \"r\") as file:\n",
      "  contents = file.read()\n",
      "\n",
      "print(contents)\n",
      "```\n",
      "\n",
      "* **`with open(\"file.txt\", \"r\") as file`:** This opens the file \"file.txt\" in read mode (\"r\") and creates a file object named `file`. The `with` statement ensures the file is automatically closed when you're done with it, even if an error occurs.\n",
      "* **`file.read()`:** This reads the entire contents of the file into a string called `contents`.\n",
      "* **`print(contents)`:** This prints the contents of the file to the console.\n",
      "\n",
      "**Java:**\n",
      "\n",
      "```java\n",
      "import java.io.BufferedReader;\n",
      "import java.io.FileReader;\n",
      "import java.io.IOException;\n",
      "\n",
      "public class ReadFile {\n",
      "  public static void main(String[] args) {\n",
      "    try (BufferedReader reader = new BufferedReader(new FileReader(\"file.txt\"))) {\n",
      "      String line;\n",
      "      while ((line = reader.readLine()) != null) {\n",
      "        System.out.println(line);\n",
      "      }\n",
      "    } catch (IOException e) {\n",
      "      System.err.println(\"Error reading file: \" + e.getMessage());\n",
      "    }\n",
      "  }\n",
      "}\n",
      "```\n",
      "\n",
      "* **`import java.io.BufferedReader;`:** This imports the `BufferedReader` class for efficient reading of the file.\n",
      "* **`import java.io.FileReader;`:** This imports the `FileReader` class to read the file.\n",
      "* **`import java.io.IOException;`:** This imports the `IOException` class to handle potential errors when reading the file.\n",
      "* **`try (BufferedReader reader = new BufferedReader(new FileReader(\"file.txt\"))) {...}`:** This opens the file and creates a `BufferedReader` object. The `try-with-resources` statement ensures the file is closed automatically.\n",
      "* **`String line;`:** This declares a string variable to store each line read from the file.\n",
      "* **`while ((line = reader.readLine()) != null) {...}`:** This loops through each line in the file.\n",
      "* **`System.out.println(line);`:** This prints each line read from the file to the console.\n",
      "* **`catch (IOException e) {...}`:** This handles any potential errors that may occur during file reading.\n",
      "\n",
      "**JavaScript (Node.js):**\n",
      "\n",
      "```javascript\n",
      "const fs = require('fs');\n",
      "\n",
      "fs.readFile('file.txt', 'utf8', (err, data) => {\n",
      "  if (err) {\n",
      "    console.error(err);\n",
      "    return;\n",
      "  }\n",
      "  console.log(data);\n",
      "});\n",
      "```\n",
      "\n",
      "* **`const fs = require('fs');`:** This imports the `fs` module which provides file system functionality.\n",
      "* **`fs.readFile('file.txt', 'utf8', (err, data) => {...})`:** This asynchronously reads the file and calls a callback function with potential errors (`err`) and the file content (`data`).\n",
      "* **`if (err) {...}`:** Checks for errors and displays them if present.\n",
      "* **`console.log(data);`:** Prints the file content to the console.\n",
      "\n",
      "\n",
      "Remember to replace `\"file.txt\"` with the actual path to your text file.  These are just basic examples, and you can modify them to read specific lines, search for patterns, and more depending on your needs. \n",
      "\n"
     ]
    }
   ],
   "source": [
    "# good prompt\n",
    "prompt = 'Code to read a text file.'\n",
    "output = generate_response(prompt)\n",
    "print(output)"
   ]
  },
  {
   "cell_type": "code",
   "execution_count": 9,
   "id": "3f27cdae-4bf2-4d9d-9f3a-d7f27e194091",
   "metadata": {
    "scrolled": true
   },
   "outputs": [
    {
     "name": "stdin",
     "output_type": "stream",
     "text": [
      "Enter programming language:  Rust\n"
     ]
    },
    {
     "name": "stdout",
     "output_type": "stream",
     "text": [
      "```rust\n",
      "use std::fs::File;\n",
      "use std::io::{BufRead, BufReader};\n",
      "use std::path::Path;\n",
      "\n",
      "/// Reads the contents of a file as a string.\n",
      "///\n",
      "/// # Arguments\n",
      "///\n",
      "/// * `file_path` - The path to the file to read.\n",
      "///\n",
      "/// # Returns\n",
      "///\n",
      "/// * `Ok(file_content)` - The contents of the file as a string if the file exists.\n",
      "/// * `Err(error_message)` - An error message if the file cannot be found.\n",
      "pub fn read_file_as_string(file_path: &str) -> Result<String, String> {\n",
      "    // Check if the file exists.\n",
      "    if !Path::new(file_path).exists() {\n",
      "        return Err(format!(\"File not found: {}\", file_path));\n",
      "    }\n",
      "\n",
      "    // Open the file for reading.\n",
      "    let file = File::open(file_path).map_err(|err| format!(\"Failed to open file: {}\", err))?;\n",
      "\n",
      "    // Read the file contents into a string.\n",
      "    let mut file_content = String::new();\n",
      "    let reader = BufReader::new(file);\n",
      "\n",
      "    for line in reader.lines() {\n",
      "        file_content.push_str(&line.map_err(|err| format!(\"Failed to read line: {}\", err))?);\n",
      "        file_content.push('\\n');\n",
      "    }\n",
      "\n",
      "    // Return the file contents.\n",
      "    Ok(file_content)\n",
      "}\n",
      "```\n",
      "\n"
     ]
    }
   ],
   "source": [
    "# better prompt\n",
    "language = input('Enter programming language: ')\n",
    "prompt = f'''Generate a concise and well-formatted {language} function that:\n",
    "1. Takes a file path as input.\n",
    "2. Checks if the file exists at the specified path.\n",
    "3. Reads the file's content as a string.\n",
    "4. Returns the file content, or an appropriate error message if the file is not found.\n",
    "\n",
    "Ensure the function includes:\n",
    "- Clear, concise and idiomatic variable names.\n",
    "- Meaningful comments to explain the code's logic.\n",
    "- A descriptive docstring that outlines the function's purpose, parameters, and return value.\n",
    "\n",
    "Adhere to {language} best practices for readability and maintainability.\n",
    "'''\n",
    "output = generate_response(prompt)\n",
    "print(output)"
   ]
  },
  {
   "cell_type": "markdown",
   "id": "238d17ef-a8ac-4a38-9218-5e3504839a28",
   "metadata": {},
   "source": [
    "### Tactic #3 \n",
    "\n",
    "Specify the response format."
   ]
  },
  {
   "cell_type": "code",
   "execution_count": 10,
   "id": "3760ac13-d86c-4ead-8460-b1614ceda9c4",
   "metadata": {
    "scrolled": true
   },
   "outputs": [
    {
     "name": "stdout",
     "output_type": "stream",
     "text": [
      "<!DOCTYPE html>\n",
      "<html lang=\"en\">\n",
      "<head>\n",
      "    <meta charset=\"UTF-8\">\n",
      "    <meta name=\"viewport\" content=\"width=device-width, initial-scale=1.0\">\n",
      "    <title>Nelson Mandela: A Beacon of Hope</title>\n",
      "</head>\n",
      "<body>\n",
      "\n",
      "<h1>Nelson Mandela: A Beacon of Hope</h1>\n",
      "\n",
      "<p>Nelson Mandela, the name itself evokes a sense of awe and admiration. He was more than just a political leader; he was a symbol of resilience, forgiveness, and the unwavering pursuit of justice. Born in 1918 in a small village in South Africa, Mandela dedicated his life to dismantling the abhorrent system of apartheid - a system that denied basic human rights to millions based on the color of their skin. His journey, though fraught with hardship, stands as a testament to the power of unwavering conviction and the enduring spirit of humanity.</p>\n",
      "\n",
      "<p>Mandela's fight against apartheid began early in his life. He joined the African National Congress (ANC) in 1944, where he played a crucial role in leading the struggle against racial segregation and oppression. His activism led him to be imprisoned for 27 years, a period during which he became an international icon of resistance. Despite the harsh conditions and isolation, Mandela never lost hope. He continued to advocate for freedom and justice from within the confines of prison walls, becoming a symbol of hope for millions around the world.</p>\n",
      "\n",
      "<p>Mandela's release from prison in 1990 marked a turning point in South Africa's history. His leadership was instrumental in bringing about the end of apartheid and the establishment of a multiracial democracy. He was elected as South Africa's first black president in 1994, a watershed moment for the nation and the world. During his tenure, Mandela championed reconciliation and forgiveness, leading the country towards a future marked by peace and unity.</p>\n",
      "\n",
      "<p>Mandela's legacy transcends racial boundaries and national borders. He remains an inspiration to millions, a testament to the power of human spirit and the unwavering pursuit of justice. His life and work continue to inspire activists, political leaders, and ordinary citizens alike, reminding us that even in the face of seemingly insurmountable obstacles, hope and a belief in the power of change can prevail.</p>\n",
      "\n",
      "<p>In the tapestry of human history, Nelson Mandela stands out as an extraordinary thread, a legend whose life story serves as a beacon of hope, reminding us that even against the darkest of odds, the fight for equality and justice can be won. His life and legacy continue to encourage us to strive for a world that embraces inclusivity and celebrates the shared humanity that binds us all.</p>\n",
      "\n",
      "</body>\n",
      "</html>\n",
      "\n"
     ]
    }
   ],
   "source": [
    "format = 'HTML 5'\n",
    "prompt = f'''\n",
    "Craft a captivating blog post about one emblematic and positive figure of the last century.\n",
    "Give it a title and limit the blog post to 5 paragraphs.\n",
    "Format the output as {format}\n",
    "\n",
    "Ensure the blog post includes:\n",
    "- an introduction, a main part and a summary.\n",
    "- emphasize clear and engaging writing, suitable for a general audience.\n",
    "- ensure factual accuracy and respectful representation of historical events and figures.\n",
    "- include interesting facts that pique users' curiosity.\n",
    "- avoid biased opinions.\n",
    "'''\n",
    "output = generate_response(prompt)\n",
    "print(output)"
   ]
  },
  {
   "cell_type": "code",
   "execution_count": 12,
   "id": "0af83ce1-8086-4215-8615-2a05a7a29b30",
   "metadata": {
    "scrolled": true
   },
   "outputs": [
    {
     "data": {
      "text/html": [
       "<!DOCTYPE html>\n",
       "<html lang=\"en\">\n",
       "<head>\n",
       "    <meta charset=\"UTF-8\">\n",
       "    <meta name=\"viewport\" content=\"width=device-width, initial-scale=1.0\">\n",
       "    <title>Nelson Mandela: A Beacon of Hope</title>\n",
       "</head>\n",
       "<body>\n",
       "\n",
       "<h1>Nelson Mandela: A Beacon of Hope</h1>\n",
       "\n",
       "<p>Nelson Mandela, the name itself evokes a sense of awe and admiration. He was more than just a political leader; he was a symbol of resilience, forgiveness, and the unwavering pursuit of justice. Born in 1918 in a small village in South Africa, Mandela dedicated his life to dismantling the abhorrent system of apartheid - a system that denied basic human rights to millions based on the color of their skin. His journey, though fraught with hardship, stands as a testament to the power of unwavering conviction and the enduring spirit of humanity.</p>\n",
       "\n",
       "<p>Mandela's fight against apartheid began early in his life. He joined the African National Congress (ANC) in 1944, where he played a crucial role in leading the struggle against racial segregation and oppression. His activism led him to be imprisoned for 27 years, a period during which he became an international icon of resistance. Despite the harsh conditions and isolation, Mandela never lost hope. He continued to advocate for freedom and justice from within the confines of prison walls, becoming a symbol of hope for millions around the world.</p>\n",
       "\n",
       "<p>Mandela's release from prison in 1990 marked a turning point in South Africa's history. His leadership was instrumental in bringing about the end of apartheid and the establishment of a multiracial democracy. He was elected as South Africa's first black president in 1994, a watershed moment for the nation and the world. During his tenure, Mandela championed reconciliation and forgiveness, leading the country towards a future marked by peace and unity.</p>\n",
       "\n",
       "<p>Mandela's legacy transcends racial boundaries and national borders. He remains an inspiration to millions, a testament to the power of human spirit and the unwavering pursuit of justice. His life and work continue to inspire activists, political leaders, and ordinary citizens alike, reminding us that even in the face of seemingly insurmountable obstacles, hope and a belief in the power of change can prevail.</p>\n",
       "\n",
       "<p>In the tapestry of human history, Nelson Mandela stands out as an extraordinary thread, a legend whose life story serves as a beacon of hope, reminding us that even against the darkest of odds, the fight for equality and justice can be won. His life and legacy continue to encourage us to strive for a world that embraces inclusivity and celebrates the shared humanity that binds us all.</p>\n",
       "\n",
       "</body>\n",
       "</html>\n"
      ],
      "text/plain": [
       "<IPython.core.display.HTML object>"
      ]
     },
     "metadata": {},
     "output_type": "display_data"
    }
   ],
   "source": [
    "from IPython.display import display, HTML\n",
    "display(HTML(output))"
   ]
  },
  {
   "cell_type": "code",
   "execution_count": 15,
   "id": "99950eda-963f-4325-8f6a-e739d334067c",
   "metadata": {},
   "outputs": [
    {
     "name": "stdout",
     "output_type": "stream",
     "text": [
      "## The History of the European Union: From Coal and Steel to a United Europe\n",
      "\n",
      "**I. Introduction:**\n",
      "\n",
      "* Briefly discuss the concept of the European Union and the significance of its history. \n",
      "* State the essay's argument/thesis (e.g., The European Union evolved from a post-war effort to rebuild Europe into a unified entity with a complex and dynamic history shaped by political, economic, and social factors).\n",
      "\n",
      "**II. The Post-War Roots of Integration:**\n",
      "\n",
      "* **The European Coal and Steel Community (ECSC) (1951):**\n",
      "    * Explain the creation of the ECSC by France, Germany, Italy, Belgium, the Netherlands, and Luxembourg.\n",
      "    * Highlight the motivations behind its creation: preventing another devastating European war and promoting cooperation through shared resources.\n",
      "* **The Treaty of Rome and the European Economic Community (EEC) (1957):**\n",
      "    * Describe the expansion of the ECSC's objectives to encompass economic integration and free trade.\n",
      "    * Discuss the formation of the EEC and its initial members.\n",
      "* **The 1960s and 1970s: Early Expansion and Challenges:**\n",
      "    * Focus on the EEC's first enlargement, adding Denmark, Ireland, and the UK in 1973.\n",
      "    * Discuss the challenges faced during this period, including political and economic crises, such as the \"empty chair crisis\" and the energy crisis.\n",
      "\n",
      "**III. The Evolution Towards Political Integration:**\n",
      "\n",
      "* **The European Single Act (1985):**\n",
      "    * Explain the impetus for promoting further integration towards a single market.\n",
      "    * Highlight the objectives of the Single Act, aiming for free movement of people, goods, services, and capital.\n",
      "* **The Maastricht Treaty and the Birth of the European Union (1993):**\n",
      "    * Emphasize the significance of the Maastricht Treaty as a milestone in European integration.\n",
      "    * Discuss the establishment of the euro, the European Parliament, and the European Central Bank.\n",
      "* **The Expansion of the Union (1995-2007):**\n",
      "    * Describe the significant enlargement of the EU with the addition of Eastern European countries.\n",
      "    * Discuss the motivations for expansion and its potential impact on the Union's future.\n",
      "\n",
      "**IV. The Challenges and Opportunities of the 21st Century:**\n",
      "\n",
      "* **The Lisbon Treaty (2009):**\n",
      "    * Explain the aims of the Lisbon Treaty to streamline the EU's decision-making processes.\n",
      "    * Briefly discuss the challenges faced in its ratification process.\n",
      "* **The European Debt Crisis (2010-present):**\n",
      "    * Analyze the impact of the financial crisis on the EU, particularly concerning the Eurozone.\n",
      "    * Discuss the ongoing efforts to address the crisis and the implications for the future of the Union.\n",
      "* **Brexit (2016):**\n",
      "    * Explain the UK's decision to leave the EU and its potential long-term consequences for both parties.\n",
      "    * Analyze the political and economic challenges faced by the EU in a post-Brexit environment.\n",
      "\n",
      "**V. Conclusion:**\n",
      "\n",
      "* Recap the key milestones and turning points in the history of the European Union.\n",
      "* Discuss the future prospects of the Union and its evolving role in the world.\n",
      "* Offer a concise and insightful final thought on the significance of the EU's journey through history.\n",
      "\n",
      "**VI. Additional Elements:**\n",
      "\n",
      "* Include relevant historical figures and their contributions to the EU's development.\n",
      "* Provide examples of key treaties, policies, and institutions that have shaped the EU's trajectory.\n",
      "* Use historical maps and images to visualize the expansion of the EU and its different stages.\n",
      "* Utilize primary and secondary sources, such as historical documents, speeches, and scholarly articles, to substantiate your arguments.\n",
      "* Ensure balanced and critical analysis of the EU's evolution, acknowledging both successes and challenges.\n",
      "\n",
      "**Note:** This outline provides a general structure and key themes. Specific topics and subtopics can be elaborated upon depending on the essay's length and scope.\n"
     ]
    }
   ],
   "source": [
    "prompt = '''\n",
    "Create an outline for an Essay about the History of the EU.\n",
    "'''\n",
    "output = generate_response(prompt)\n",
    "print(output)"
   ]
  },
  {
   "cell_type": "code",
   "execution_count": 16,
   "id": "fe65db38-65dd-4210-b897-ca812a9426a5",
   "metadata": {
    "scrolled": true
   },
   "outputs": [
    {
     "name": "stdout",
     "output_type": "stream",
     "text": [
      "## Essay Outline: The History of the European Union\n",
      "\n",
      "**I. Introduction**\n",
      "    A.  **The European Union: A Complex Tapestry of History and Integration**\n",
      "        1. Introduce the European Union as a unique political and economic entity.\n",
      "        2.  Highlight the ambitious nature of the project, encompassing diverse nations and cultures.\n",
      "        3.  Set the stage for exploring the historical journey that shaped the EU. \n",
      "    B.  **The Need to Understand the EU's Roots to Comprehend the Present**\n",
      "        1.  Emphasize the importance of understanding the EU's history to grasp its challenges, successes, and ongoing evolution.\n",
      "        2.  Establish the essay's purpose: to provide a concise yet comprehensive overview of the EU's historical development.\n",
      "\n",
      "**II. The Seeds of Integration: Post-World War II Europe**\n",
      "    A.  **The Devastation of War and the Desire for Peace**\n",
      "        1.  Describe the profound impact of World War II on Europe, fostering a deep desire for peace and stability.\n",
      "        2.  Highlight the anxieties surrounding the Cold War as a key driver for collaboration. \n",
      "    B.  **Early Initiatives: The Beginnings of Cooperation**\n",
      "        1.  Introduce the European Coal and Steel Community (ECSC) as the first step towards integration.\n",
      "        2.  Explain the ECSC's focus on economic cooperation and its role in preventing future wars.\n",
      "        3.  Mention the European Economic Community (EEC) as a crucial expansion of the ECSC, setting the stage for economic integration. \n",
      "\n",
      "**III. Expansion and Development: The Growth of the Community**\n",
      "    A.  **The \"Six\" Become the \"Twelve\": Expansion and Deepening**\n",
      "        1.  Detail the gradual enlargement of the EEC, with the addition of Denmark, Ireland, and the United Kingdom.\n",
      "        2.  Discuss the deepening of integration, including the establishment of the European Parliament and the expansion of common policies (e.g., agriculture).\n",
      "    B.  **The Fall of the Berlin Wall and the Transformation of Europe**\n",
      "        1.  Explore the impact of the fall of the Berlin Wall and the collapse of the Soviet Union on the EEC.\n",
      "        2.  Explain how the transition from a divided Europe to a unified one spurred further integration and expansion.\n",
      "\n",
      "**IV.  Towards a United Europe: The European Union is Born**\n",
      "    A.  **The Maastricht Treaty: Defining a New Era of European Integration**\n",
      "        1.  Explain the significance of the Maastricht Treaty in 1993, which marked the formal establishment of the European Union.\n",
      "        2.  Discuss the treaty's key elements, including the introduction of the euro and the creation of common foreign and security policies.\n",
      "    B.  **Further Expansion: Embracing Central and Eastern European Countries**\n",
      "        1.  Highlight the wave of new members joining the EU from Central and Eastern Europe post-2004.\n",
      "        2.  Address the challenges and opportunities presented by this expansion.\n",
      "\n",
      "**V.  Challenges and Future Prospects: The European Union in the 21st Century**\n",
      "    A.  **Facing Global Challenges Together:**\n",
      "        1.  Examine the EU's role as a major global actor, engaging in international cooperation and tackling global challenges like climate change and security threats.\n",
      "    B.  **Internal Challenges and Debates:**\n",
      "        1.  Discuss the ongoing challenges facing the EU, such as economic disparities, migration, and social polarization.\n",
      "        2.  Explore the debate surrounding the EU's future, with diverging viewpoints on further integration, reform, or even a possible decline.\n",
      "    C.  **The Future of the European Union: A Vision for a United and Prosperous Europe**\n",
      "        1.  Conclude with a reflection on the future of the EU.\n",
      "        2.  Highlight the potential for the EU to continue evolving as a force for peace, prosperity, and progress in a rapidly changing world.\n",
      "\n",
      "**VI. Conclusion**\n",
      "    A.  **The European Union: A Testament to Human Resilience and Cooperation**\n",
      "        1.  Summarize the key points of the essay, emphasizing the EU's unique path of integration.\n",
      "        2.  Reiterate the importance of understanding the EU's historical context to comprehend its significance in the present and future.\n",
      "    B.  **A Legacy of Peace, Prosperity, and Shared Values**\n",
      "        1.  Conclude with a hopeful perspective on the EU's enduring legacy as a symbol of unity, peace, and collaboration in a world facing increasing fragmentation. \n",
      "\n"
     ]
    }
   ],
   "source": [
    "prompt = '''\n",
    "Create an outline for an Essay about the History of the EU.\n",
    "I. Introduction\n",
    "    A.\n",
    "        1.\n",
    "    B.\n",
    "        1.\n",
    "'''\n",
    "output = generate_response(prompt)\n",
    "print(output)"
   ]
  },
  {
   "cell_type": "code",
   "execution_count": 17,
   "id": "6f695a89-ffbb-478e-9bfe-96c66bc7b754",
   "metadata": {
    "scrolled": true
   },
   "outputs": [
    {
     "name": "stdout",
     "output_type": "stream",
     "text": [
      "```json\n",
      "[\n",
      "  {\n",
      "    \"country\": \"Russia\",\n",
      "    \"area\": 17098242\n",
      "  },\n",
      "  {\n",
      "    \"country\": \"Canada\",\n",
      "    \"area\": 9984670\n",
      "  },\n",
      "  {\n",
      "    \"country\": \"China\",\n",
      "    \"area\": 9596960\n",
      "  },\n",
      "  {\n",
      "    \"country\": \"United States\",\n",
      "    \"area\": 9833520\n",
      "  },\n",
      "  {\n",
      "    \"country\": \"Brazil\",\n",
      "    \"area\": 8515767\n",
      "  },\n",
      "  {\n",
      "    \"country\": \"Australia\",\n",
      "    \"area\": 7692024\n",
      "  },\n",
      "  {\n",
      "    \"country\": \"India\",\n",
      "    \"area\": 3287590\n",
      "  },\n",
      "  {\n",
      "    \"country\": \"Argentina\",\n",
      "    \"area\": 2780400\n",
      "  },\n",
      "  {\n",
      "    \"country\": \"Kazakhstan\",\n",
      "    \"area\": 2724900\n",
      "  },\n",
      "  {\n",
      "    \"country\": \"Algeria\",\n",
      "    \"area\": 2381741\n",
      "  }\n",
      "]\n",
      "``` \n",
      "\n",
      "**Note:** The area values are in square kilometers.\n",
      "\n"
     ]
    }
   ],
   "source": [
    "prompt = '''\n",
    "List the top 10 countries by total area in the world.\n",
    "JSON:\n",
    "'''\n",
    "output = generate_response(prompt)\n",
    "print(output)"
   ]
  },
  {
   "cell_type": "markdown",
   "id": "ed7551ee-3514-48b5-b5d5-711fb64d7df3",
   "metadata": {},
   "source": [
    "### Tactic #4 - Few-Shot Prompting\n",
    "\n",
    "**Few-Shot Prompting**  provides a small number of examples to guide the language model."
   ]
  },
  {
   "cell_type": "code",
   "execution_count": 18,
   "id": "32e4135d-099f-4411-81a8-614de24b5a3b",
   "metadata": {
    "scrolled": true
   },
   "outputs": [
    {
     "name": "stdout",
     "output_type": "stream",
     "text": [
      "The sky appears blue due to a phenomenon called **Rayleigh scattering**. Here's the breakdown:\n",
      "\n",
      "* **Sunlight: ** Sunlight is made up of all colors of the rainbow, which are different wavelengths of light.\n",
      "* **Atmosphere:**  The Earth's atmosphere is filled with tiny particles of gas molecules, primarily nitrogen and oxygen.\n",
      "* **Scattering:**  When sunlight hits these molecules, it gets scattered in all directions. \n",
      "* **Shorter Wavelengths:**  Blue light has shorter wavelengths than other colors like red and orange.  These shorter wavelengths are scattered more effectively by the tiny particles in the atmosphere.\n",
      "* **Blue Sky:**  As a result, we see the blue light scattered throughout the sky, giving it its characteristic blue color.\n",
      "\n",
      "**Here's a simple analogy:** Imagine shining a flashlight through a foggy room. The fog particles scatter the flashlight's light, and the shorter wavelengths (like blue) are scattered more, making the fog appear bluish.\n",
      "\n",
      "**Why is the sunset orange/red?** This is also due to Rayleigh scattering. As the sun sets, the sunlight travels through more of the atmosphere. The blue light is scattered away, leaving behind the longer wavelengths like orange and red. This is why sunsets often appear red and orange. \n",
      "\n"
     ]
    }
   ],
   "source": [
    "prompt = 'Why is the sky blue?'\n",
    "output = generate_response(prompt)\n",
    "print(output)"
   ]
  },
  {
   "cell_type": "code",
   "execution_count": 26,
   "id": "1391ae99-c40e-457c-95a6-d4867e5cca9c",
   "metadata": {},
   "outputs": [
    {
     "name": "stdout",
     "output_type": "stream",
     "text": [
      "The sky is blue due to a phenomenon called **Rayleigh scattering**. \n",
      "\n",
      "Here's the breakdown:\n",
      "\n",
      "* **Sunlight:** Sunlight is made up of all colors of the rainbow (like a prism). \n",
      "* **Atmosphere:** The Earth's atmosphere has tiny particles of gas (like nitrogen and oxygen).\n",
      "* **Scattering:** When sunlight enters the atmosphere, these tiny particles scatter the light in all directions.\n",
      "* **Blue Light:** Blue light has shorter wavelengths than other colors, and it gets scattered more easily by the particles in the air.\n",
      "* **Our Eyes:** This scattered blue light is what we see as the blue sky.\n",
      "\n",
      "So, the blue sky is essentially scattered blue light from the sun! \n",
      "\n"
     ]
    }
   ],
   "source": [
    "prompt = '''\n",
    "User: What is the cause of earthquakes?\n",
    "Model: Sudden release of energy in the Earth's crust.\n",
    "\n",
    "User: Whey is the sky blue?\n",
    "Model:\n",
    "'''\n",
    "output = generate_response(prompt)\n",
    "print(output)"
   ]
  },
  {
   "cell_type": "code",
   "execution_count": 23,
   "id": "06048a27-74ef-4b67-b522-79436a29a87e",
   "metadata": {
    "scrolled": true
   },
   "outputs": [
    {
     "name": "stdout",
     "output_type": "stream",
     "text": [
      "The Moon, Earth's only natural satellite, is a fascinating celestial body with a rich history and secrets waiting to be unveiled.  Here are a few interesting facts:\n",
      "\n",
      "* **No Atmosphere:**  Unlike Earth, the Moon has no atmosphere, meaning there's no wind and no protection from meteoroids. Temperatures fluctuate dramatically between scorching hot during the day and freezing cold at night. \n",
      "* **Tides:**  The  Moon's gravitational pull is responsible for Earth's tides. As the Moon orbits the Earth, its gravity attracts the oceans, causing them to bulge out on the side facing the Moon and the side opposite it.\n",
      "* **Craters & Maria:**  The Moon's surface is heavily cratered from impacts by asteroids and comets. Large, dark plains called \"maria\" (Latin for seas) were once thought to be filled with water, but are actually solidified lava flows from ancient volcanic eruptions.\n",
      "* **Origin Mystery:** There are multiple theories on how the Moon formed, but the most accepted one is the Giant Impact Hypothesis. This suggests a Mars-sized object collided with Earth early in its history, ejecting debris that eventually coalesced into the Moon.\n",
      "* **Exploration:** Humans have visited the Moon. The Apollo missions sent astronauts to the lunar surface, collecting samples and conducting experiments. \n",
      "* **Future Plans:**  Space agencies are actively working on future lunar missions, including plans for establishing a permanent base and returning to the Moon for scientific research and resource extraction.\n",
      "\n",
      "This is just a glimpse into the wonders of the Moon. There's much more to explore, and ongoing discoveries continue to shed light on its mysteries. \n",
      "\n"
     ]
    }
   ],
   "source": [
    "prompt = '''Tell me something about the Moon.'''\n",
    "output = generate_response(prompt)\n",
    "print(output)"
   ]
  },
  {
   "cell_type": "code",
   "execution_count": 24,
   "id": "cf2308a3-019d-48cd-b151-c3784c871144",
   "metadata": {},
   "outputs": [
    {
     "name": "stdout",
     "output_type": "stream",
     "text": [
      "A molten heart of fire, beating with a rhythm that pulses through the solar system, bringing life and light to every world in its embrace. \n",
      "\n"
     ]
    }
   ],
   "source": [
    "prompt = '''\n",
    "User: Tell me something about the Moon.\n",
    "Model: A silver coin spun by the cosmos, forever orbiting between dreams and dawn.\n",
    "\n",
    "User: Tell me something about the Sun.\n",
    "Model:\n",
    "'''\n",
    "output = generate_response(prompt)\n",
    "print(output)"
   ]
  },
  {
   "cell_type": "markdown",
   "id": "af2f2b62-94c8-4a7a-8a7b-02a5fb75c686",
   "metadata": {},
   "source": [
    "### Tactic #5 - Specify the steps required to complete a task"
   ]
  },
  {
   "cell_type": "code",
   "execution_count": 27,
   "id": "eb435fad-4e61-4735-b939-c5eea6db6dbd",
   "metadata": {
    "scrolled": true
   },
   "outputs": [
    {
     "name": "stdout",
     "output_type": "stream",
     "text": [
      "The wind howled like a banshee, whipping Sir Eldred's cloak around him as he stood before the slumbering beast. The dragon, its scales a shimmering mosaic of emerald and gold, lay curled around a mountain of treasure, its breath forming wispy tendrils of smoke that danced in the moonlight.\n",
      "\n",
      "Eldred had come seeking glory. He had heard whispers of the sleeping dragon, of its hoard amassed over centuries, and the legend of the noble knight who dared to steal a single golden egg. He had come for the gold, for the fame, but standing before the creature, he felt a strange mixture of fear and awe.\n",
      "\n",
      "He raised his sword, its polished steel reflecting the dragon's emerald eyes, but the blade felt cold in his hand. The knight, a man with scars from a hundred battles, felt a prickling fear creep up his spine. This was no mere beast, it was a living legend, a being of pure power.\n",
      "\n",
      "Suddenly, a small golden egg, no larger than Eldred's fist, rolled out from the dragon's side, landing at his feet. Eldred's eyes widened in astonishment. He knelt down and gently picked it up, feeling the heat radiating from its smooth, iridescent surface.\n",
      "\n",
      "He felt a strange connection, a silent communication, between him and the dragon. The fear that had gripped him subsided and was replaced by a sense of understanding. He had not come to steal from this creature, he had come to challenge it, to win its respect.\n",
      "\n",
      "For a moment, Eldred considered leaving the egg where it lay. It could easily be mistaken for any other treasure. But he knew, deep in his heart, that the dragon had offered him a gift – a chance to prove himself, not as a thief, but as a worthy adversary.\n",
      "\n",
      "With a deep breath, Eldred raised his sword high, his voice ringing in the stillness. “I challenge you, dragon! A duel for the right to claim this egg!”\n",
      "\n",
      "The dragon stirred, its eyes opening slowly, and Eldred held his breath, his heart pounding in his chest. He expected fire, lightning, a terrifying roar. Instead, the dragon let out a gentle sigh, a plume of smoke curling from its nostrils.\n",
      "\n",
      "It nudged the egg back towards Eldred with a single, massive claw, its gaze unwavering. In that single gesture, Eldred understood. He had gained the respect of the dragon, not through violence, but through honor. He had earned his right to the egg, not through theft, but through respect.\n",
      "\n",
      "Eldred left that night, the egg tucked safely beneath his armor, a silent promise of honour and understanding between a dragon and a knight. He had come seeking glory, but he found something more valuable – a bond forged in respect, a story whispered on the wind, of a dragon and a knight, who dared to challenge each other, not with blades, but with honor. \n",
      "\n"
     ]
    }
   ],
   "source": [
    "prompt = 'Write a short story about a dragon and knight.'\n",
    "output = generate_response(prompt)\n",
    "print(output)"
   ]
  },
  {
   "cell_type": "code",
   "execution_count": 30,
   "id": "baa1c0ff-273e-4d0b-85ef-352979d3024f",
   "metadata": {},
   "outputs": [
    {
     "name": "stdout",
     "output_type": "stream",
     "text": [
      "Sir Gideon, a valiant knight, stood before the fearsome dragon, Ignis, who guarded the ancient wellspring.  The well's water was said to hold the power to heal the King's mortal illness, but Ignis fiercely protected it.  Gideon, armed with his sword and shield, bravely approached the dragon, hoping to reason with it, but Ignis only roared in defiance.  Gideon, seeing the dragon's anguish, realized the wellspring was poisoned and offered his own blood to cleanse the water. The dragon, seeing the knight's selfless act, allowed Gideon to take the water, healing both the King and the land. \n",
      "\n"
     ]
    }
   ],
   "source": [
    "prompt = '''\n",
    "Write a short story about a dragon and a knight in five sentences.\n",
    "\n",
    "Follow these steps:\n",
    "1. Introduce the main characters and the setting in the first sentence.\n",
    "2. Describe the conflict or the problem that the characters face in the second sentence.\n",
    "3. Show how the characters try to solve the problem or overcome the conflict in the third and fourth sentences.\n",
    "4. Write the resolution or the outcome of the story in the fifth sentence.\n",
    "'''\n",
    "output = generate_response(prompt)\n",
    "print(output)\n"
   ]
  },
  {
   "cell_type": "code",
   "execution_count": 31,
   "id": "e06bda0a-b534-455c-9158-722ef4a4954b",
   "metadata": {},
   "outputs": [
    {
     "name": "stdout",
     "output_type": "stream",
     "text": [
      "## Healthy Daily Meal Plan\n",
      "\n",
      "**Breakfast (400 calories)**\n",
      "\n",
      "* **Protein:** Scrambled eggs with chopped spinach and cherry tomatoes (1 egg)\n",
      "* **Carbs:** Toast with avocado and a sprinkle of chia seeds (1 slice whole wheat bread)\n",
      "* **Fruit:** Sliced apple with a drizzle of honey (1 medium apple)\n",
      "\n",
      "**Lunch (500 calories)**\n",
      "\n",
      "* **Protein:** Chicken salad sandwich on whole wheat bread (3 oz grilled chicken breast, lettuce, tomato, cucumber, and a small amount of mayonnaise)\n",
      "* **Carbs:** Side salad with mixed greens, cucumber, carrots, and a light vinaigrette dressing (1 cup mixed greens, 1/2 cup chopped veggies)\n",
      "* **Fruit:** Sliced banana (1 medium banana)\n",
      "\n",
      "**Dinner (600 calories)**\n",
      "\n",
      "* **Protein:** Lemon-herb baked chicken with roasted vegetables (4 oz boneless skinless chicken breast, 1 cup roasted broccoli and carrots)\n",
      "* **Carbs:** Brown rice ( ½ cup cooked brown rice)\n",
      "* **Fat & Fiber:** Side salad with a light vinaigrette dressing (1 cup mixed greens, 1/2 cup chopped veggies)\n",
      "\n",
      "**Snacks (150 calories)**\n",
      "\n",
      "* **Mid-morning:** Handful of almonds with a banana (1/4 cup almonds, 1 small banana)\n",
      "* **Afternoon:** Yogurt with berries (1 cup Greek yogurt, 1/2 cup mixed berries).\n",
      "\n",
      "**This plan offers a balanced intake of proteins, healthy fats, carbohydrates, and essential vitamins and minerals.**\n",
      "\n",
      "**Variations**\n",
      "\n",
      "* Replace scrambled eggs with oatmeal for breakfast.\n",
      "* Replace chicken salad sandwich with a veggie burger on a whole wheat bun for lunch.\n",
      "* Replace lemon-herb baked chicken with salmon or tuna for dinner.\n",
      "* Swap almonds for walnuts or cashews as a snack.\n",
      "\n",
      " **Important considerations:**\n",
      "\n",
      "* Adjust portion sizes according to your individual calorie needs.\n",
      "* Ensure you're drinking plenty of water throughout the day.\n",
      "* If you're following a specific diet (e.g., vegetarian or vegan), adjust the meal plan accordingly.\n",
      "* Consult a registered dietitian or nutritionist for personalized dietary advice.\n"
     ]
    }
   ],
   "source": [
    "ingredients = '''chicken, vegetables, rice, dairy products, nuts, fruits (apples and bananas),\n",
    "avocado, salads, bread, butter, olive oil'''\n",
    "prompt = f'''\n",
    "Craft a healthy daily meal plan for breakfat, lunch and dinner using these ingredients: ```{ingredients}```.\n",
    "'''\n",
    "output = generate_response(prompt)\n",
    "print(output)"
   ]
  },
  {
   "cell_type": "code",
   "execution_count": 32,
   "id": "72d3b620-36cb-462d-bb69-4ec99048577e",
   "metadata": {
    "scrolled": true
   },
   "outputs": [
    {
     "name": "stdout",
     "output_type": "stream",
     "text": [
      "<!DOCTYPE html>\n",
      "<html>\n",
      "<head>\n",
      "  <title>Healthy Daily Meal Plan</title>\n",
      "  <style>\n",
      "    body {\n",
      "      font-family: Arial, sans-serif;\n",
      "    }\n",
      "    h1, h2, h3 {\n",
      "      text-align: center;\n",
      "    }\n",
      "    table {\n",
      "      width: 100%;\n",
      "      margin-top: 20px;\n",
      "      border-collapse: collapse;\n",
      "    }\n",
      "    th, td {\n",
      "      text-align: left;\n",
      "      padding: 8px;\n",
      "      border: 1px solid #ddd;\n",
      "    }\n",
      "    th {\n",
      "      background-color: #f2f2f2;\n",
      "    }\n",
      "  </style>\n",
      "</head>\n",
      "<body>\n",
      "\n",
      "<h1>Healthy Daily Meal Plan (Under 2000 Calories)</h1>\n",
      "\n",
      "<h2>Breakfast: Apple Cinnamon Oatmeal with Nuts</h2>\n",
      "<h3>Calories: 350</h3>\n",
      "\n",
      "<p>Start your day with a warm and satisfying bowl of oatmeal packed with fiber and nutrients.</p>\n",
      "\n",
      "<table>\n",
      "  <tr>\n",
      "    <th>Ingredient</th>\n",
      "    <th>Quantity</th>\n",
      "  </tr>\n",
      "  <tr>\n",
      "    <td>Rolled Oats</td>\n",
      "    <td>1/2 cup (40g)</td>\n",
      "  </tr>\n",
      "  <tr>\n",
      "    <td>Water</td>\n",
      "    <td>1 cup (240ml)</td>\n",
      "  </tr>\n",
      "  <tr>\n",
      "    <td>Apple, diced</td>\n",
      "    <td>1/2 medium (70g)</td>\n",
      "  </tr>\n",
      "  <tr>\n",
      "    <td>Cinnamon</td>\n",
      "    <td>1/4 teaspoon</td>\n",
      "  </tr>\n",
      "  <tr>\n",
      "    <td>Almonds, sliced</td>\n",
      "    <td>1/4 cup (30g)</td>\n",
      "  </tr>\n",
      "</table>\n",
      "\n",
      "<h4>Instructions:</h4>\n",
      "<ol>\n",
      "  <li>In a small saucepan, combine the rolled oats, water, and cinnamon.</li>\n",
      "  <li>Bring the mixture to a boil, then reduce heat and simmer for 5-7 minutes, stirring occasionally, until the oats are cooked through.</li>\n",
      "  <li>Stir in the diced apple and almonds.</li>\n",
      "  <li>Serve warm and enjoy! </li>\n",
      "</ol>\n",
      "\n",
      "<br>\n",
      "\n",
      "<h2>Lunch: Chicken and Avocado Salad</h2>\n",
      "<h3>Calories: 400</h3>\n",
      "\n",
      "<p>This refreshing salad is packed with protein, healthy fats, and fiber. It's light and satisfying, perfect for a quick and nutritious lunch.</p>\n",
      "\n",
      "<table>\n",
      "  <tr>\n",
      "    <th>Ingredient</th>\n",
      "    <th>Quantity</th>\n",
      "  </tr>\n",
      "  <tr>\n",
      "    <td>Chicken Breast, cooked and shredded</td>\n",
      "    <td>4 oz (110g)</td>\n",
      "  </tr>\n",
      "  <tr>\n",
      "    <td>Mixed Greens</td>\n",
      "    <td>1 cup (50g)</td>\n",
      "  </tr>\n",
      "  <tr>\n",
      "    <td>Cherry Tomatoes, halved</td>\n",
      "    <td>1/2 cup (50g)</td>\n",
      "  </tr>\n",
      "  <tr>\n",
      "    <td>Avocado, diced</td>\n",
      "    <td>1/4 (50g)</td>\n",
      "  </tr>\n",
      "  <tr>\n",
      "    <td>Olive Oil</td>\n",
      "    <td>1 tablespoon (15ml)</td>\n",
      "  </tr>\n",
      "  <tr>\n",
      "    <td>Lemon Juice</td>\n",
      "    <td>1 tablespoon (15ml)</td>\n",
      "  </tr>\n",
      "  <tr>\n",
      "    <td>Salt and Pepper</td>\n",
      "    <td>To taste</td>\n",
      "  </tr>\n",
      "</table>\n",
      "\n",
      "<h4>Instructions:</h4>\n",
      "<ol>\n",
      "  <li>Combine the mixed greens, cherry tomatoes, and avocado in a large bowl.</li>\n",
      "  <li>Whisk together olive oil, lemon juice, salt, and pepper in a small bowl.</li>\n",
      "  <li>Pour the dressing over the salad and toss to combine.</li>\n",
      "  <li>Top with the shredded chicken breast and serve immediately.</li>\n",
      "</ol>\n",
      "\n",
      "<br>\n",
      "\n",
      "<hr>\n",
      "\n",
      "<h2>Dinner: Chicken and Vegetable Stir-Fry with Brown Rice</h2>\n",
      "<h3>Calories: 600</h3>\n",
      "\n",
      "<p>This stir-fry is packed with flavor and nutrients, featuring stir-fried chicken and vegetables served over a base of nutritious brown rice.</p>\n",
      "\n",
      "<table>\n",
      "  <tr>\n",
      "    <th>Ingredient</th>\n",
      "    <th>Quantity</th>\n",
      "  </tr>\n",
      "  <tr>\n",
      "    <td>Chicken Breast, cut into bite-sized pieces</td>\n",
      "    <td>4 oz (110g)</td>\n",
      "  </tr>\n",
      "  <tr>\n",
      "    <td>Broccoli Florets</td>\n",
      "    <td>1 cup (100g)</td>\n",
      "  </tr>\n",
      "  <tr>\n",
      "    <td>Bell Pepper, sliced</td>\n",
      "    <td>1/2 (75g)</td>\n",
      "  </tr>\n",
      "  <tr>\n",
      "    <td>Carrots, sliced</td>\n",
      "    <td>1/2 (50g)</td>\n",
      "  </tr>\n",
      "  <tr>\n",
      "    <td>Soy Sauce</td>\n",
      "    <td>1 tablespoon (15ml)</td>\n",
      "  </tr>\n",
      "  <tr>\n",
      "    <td>Olive Oil</td>\n",
      "    <td>1 tablespoon (15ml)</td>\n",
      "  </tr>\n",
      "  <tr>\n",
      "    <td>Garlic, minced</td>\n",
      "    <td>1 clove</td>\n",
      "  </tr>\n",
      "  <tr>\n",
      "    <td>Ginger, minced</td>\n",
      "    <td>1/2 teaspoon</td>\n",
      "  </tr>\n",
      "  <tr>\n",
      "    <td>Brown Rice, cooked</td>\n",
      "    <td>1/2 cup (100g)</td>\n",
      "  </tr>\n",
      "</table>\n",
      "\n",
      "<h4>Instructions:</h4>\n",
      "<ol>\n",
      "  <li>In a large skillet or wok, heat olive oil over medium-high heat.</li>\n",
      "  <li>Add the chicken and cook until browned on all sides.</li>\n",
      "  <li>Add the broccoli florets, bell peppers, and carrots and stir-fry for 2-3 minutes until slightly tender.</li>\n",
      "  <li>Add soy sauce, minced garlic, and ginger to the skillet and stir-fry for another minute until fragrant.</li>\n",
      "  <li>Serve the stir-fry over a bed of cooked brown rice.  </li>\n",
      "</ol>\n",
      "\n",
      "<hr>\n",
      "\n",
      "<p>This meal plan offers a variety of flavors and textures while staying within your desired calorie range. It's a great starting point for a healthy and balanced diet. Enjoy!</p>\n",
      "\n",
      "</body>\n",
      "</html>\n"
     ]
    }
   ],
   "source": [
    "output_format = 'HTML 5 with CSS'\n",
    "kcal = 2000\n",
    "prompt = f'''\n",
    "Craft a healthy daily meal plan for breakfast, lunch, and dinner\n",
    "using the following ingredients: `{ingredients}`.\n",
    "\n",
    "Follow these instructions carefully:\n",
    "### Instructions:\n",
    "1. Utilize ONLY the provided ingredients, along with salt, pepper, and spices.\n",
    "2. Clearly state the exact amount of each ingredient.\n",
    "3. Ensure that the total daily calorie intake remains under {kcal}.\n",
    "4. For each meal, explain each recipe step by step, using clear and concise sentences. Use bullet points or numbers to organize the steps.\n",
    "5. For each meal, specify the total calorie count.\n",
    "6. Provide a concise and descriptive title for each meal that encapsulates the primary ingredients and flavors.\n",
    "7. Separate the recipes by inserting 50 dashes (-).\n",
    "8. Your output should be in the {output_format} format.\n",
    "\n",
    "Before responding, ensure that you have strictly followed the instructions outlined above (points 1 to 8).\n",
    "'''\n",
    "output = generate_response(prompt)\n",
    "print(output)"
   ]
  },
  {
   "cell_type": "code",
   "execution_count": 33,
   "id": "cb614932-b1eb-4de9-8869-8cec768b769e",
   "metadata": {},
   "outputs": [
    {
     "data": {
      "text/html": [
       "<!DOCTYPE html>\n",
       "<html>\n",
       "<head>\n",
       "  <title>Healthy Daily Meal Plan</title>\n",
       "  <style>\n",
       "    body {\n",
       "      font-family: Arial, sans-serif;\n",
       "    }\n",
       "    h1, h2, h3 {\n",
       "      text-align: center;\n",
       "    }\n",
       "    table {\n",
       "      width: 100%;\n",
       "      margin-top: 20px;\n",
       "      border-collapse: collapse;\n",
       "    }\n",
       "    th, td {\n",
       "      text-align: left;\n",
       "      padding: 8px;\n",
       "      border: 1px solid #ddd;\n",
       "    }\n",
       "    th {\n",
       "      background-color: #f2f2f2;\n",
       "    }\n",
       "  </style>\n",
       "</head>\n",
       "<body>\n",
       "\n",
       "<h1>Healthy Daily Meal Plan (Under 2000 Calories)</h1>\n",
       "\n",
       "<h2>Breakfast: Apple Cinnamon Oatmeal with Nuts</h2>\n",
       "<h3>Calories: 350</h3>\n",
       "\n",
       "<p>Start your day with a warm and satisfying bowl of oatmeal packed with fiber and nutrients.</p>\n",
       "\n",
       "<table>\n",
       "  <tr>\n",
       "    <th>Ingredient</th>\n",
       "    <th>Quantity</th>\n",
       "  </tr>\n",
       "  <tr>\n",
       "    <td>Rolled Oats</td>\n",
       "    <td>1/2 cup (40g)</td>\n",
       "  </tr>\n",
       "  <tr>\n",
       "    <td>Water</td>\n",
       "    <td>1 cup (240ml)</td>\n",
       "  </tr>\n",
       "  <tr>\n",
       "    <td>Apple, diced</td>\n",
       "    <td>1/2 medium (70g)</td>\n",
       "  </tr>\n",
       "  <tr>\n",
       "    <td>Cinnamon</td>\n",
       "    <td>1/4 teaspoon</td>\n",
       "  </tr>\n",
       "  <tr>\n",
       "    <td>Almonds, sliced</td>\n",
       "    <td>1/4 cup (30g)</td>\n",
       "  </tr>\n",
       "</table>\n",
       "\n",
       "<h4>Instructions:</h4>\n",
       "<ol>\n",
       "  <li>In a small saucepan, combine the rolled oats, water, and cinnamon.</li>\n",
       "  <li>Bring the mixture to a boil, then reduce heat and simmer for 5-7 minutes, stirring occasionally, until the oats are cooked through.</li>\n",
       "  <li>Stir in the diced apple and almonds.</li>\n",
       "  <li>Serve warm and enjoy! </li>\n",
       "</ol>\n",
       "\n",
       "<br>\n",
       "\n",
       "<h2>Lunch: Chicken and Avocado Salad</h2>\n",
       "<h3>Calories: 400</h3>\n",
       "\n",
       "<p>This refreshing salad is packed with protein, healthy fats, and fiber. It's light and satisfying, perfect for a quick and nutritious lunch.</p>\n",
       "\n",
       "<table>\n",
       "  <tr>\n",
       "    <th>Ingredient</th>\n",
       "    <th>Quantity</th>\n",
       "  </tr>\n",
       "  <tr>\n",
       "    <td>Chicken Breast, cooked and shredded</td>\n",
       "    <td>4 oz (110g)</td>\n",
       "  </tr>\n",
       "  <tr>\n",
       "    <td>Mixed Greens</td>\n",
       "    <td>1 cup (50g)</td>\n",
       "  </tr>\n",
       "  <tr>\n",
       "    <td>Cherry Tomatoes, halved</td>\n",
       "    <td>1/2 cup (50g)</td>\n",
       "  </tr>\n",
       "  <tr>\n",
       "    <td>Avocado, diced</td>\n",
       "    <td>1/4 (50g)</td>\n",
       "  </tr>\n",
       "  <tr>\n",
       "    <td>Olive Oil</td>\n",
       "    <td>1 tablespoon (15ml)</td>\n",
       "  </tr>\n",
       "  <tr>\n",
       "    <td>Lemon Juice</td>\n",
       "    <td>1 tablespoon (15ml)</td>\n",
       "  </tr>\n",
       "  <tr>\n",
       "    <td>Salt and Pepper</td>\n",
       "    <td>To taste</td>\n",
       "  </tr>\n",
       "</table>\n",
       "\n",
       "<h4>Instructions:</h4>\n",
       "<ol>\n",
       "  <li>Combine the mixed greens, cherry tomatoes, and avocado in a large bowl.</li>\n",
       "  <li>Whisk together olive oil, lemon juice, salt, and pepper in a small bowl.</li>\n",
       "  <li>Pour the dressing over the salad and toss to combine.</li>\n",
       "  <li>Top with the shredded chicken breast and serve immediately.</li>\n",
       "</ol>\n",
       "\n",
       "<br>\n",
       "\n",
       "<hr>\n",
       "\n",
       "<h2>Dinner: Chicken and Vegetable Stir-Fry with Brown Rice</h2>\n",
       "<h3>Calories: 600</h3>\n",
       "\n",
       "<p>This stir-fry is packed with flavor and nutrients, featuring stir-fried chicken and vegetables served over a base of nutritious brown rice.</p>\n",
       "\n",
       "<table>\n",
       "  <tr>\n",
       "    <th>Ingredient</th>\n",
       "    <th>Quantity</th>\n",
       "  </tr>\n",
       "  <tr>\n",
       "    <td>Chicken Breast, cut into bite-sized pieces</td>\n",
       "    <td>4 oz (110g)</td>\n",
       "  </tr>\n",
       "  <tr>\n",
       "    <td>Broccoli Florets</td>\n",
       "    <td>1 cup (100g)</td>\n",
       "  </tr>\n",
       "  <tr>\n",
       "    <td>Bell Pepper, sliced</td>\n",
       "    <td>1/2 (75g)</td>\n",
       "  </tr>\n",
       "  <tr>\n",
       "    <td>Carrots, sliced</td>\n",
       "    <td>1/2 (50g)</td>\n",
       "  </tr>\n",
       "  <tr>\n",
       "    <td>Soy Sauce</td>\n",
       "    <td>1 tablespoon (15ml)</td>\n",
       "  </tr>\n",
       "  <tr>\n",
       "    <td>Olive Oil</td>\n",
       "    <td>1 tablespoon (15ml)</td>\n",
       "  </tr>\n",
       "  <tr>\n",
       "    <td>Garlic, minced</td>\n",
       "    <td>1 clove</td>\n",
       "  </tr>\n",
       "  <tr>\n",
       "    <td>Ginger, minced</td>\n",
       "    <td>1/2 teaspoon</td>\n",
       "  </tr>\n",
       "  <tr>\n",
       "    <td>Brown Rice, cooked</td>\n",
       "    <td>1/2 cup (100g)</td>\n",
       "  </tr>\n",
       "</table>\n",
       "\n",
       "<h4>Instructions:</h4>\n",
       "<ol>\n",
       "  <li>In a large skillet or wok, heat olive oil over medium-high heat.</li>\n",
       "  <li>Add the chicken and cook until browned on all sides.</li>\n",
       "  <li>Add the broccoli florets, bell peppers, and carrots and stir-fry for 2-3 minutes until slightly tender.</li>\n",
       "  <li>Add soy sauce, minced garlic, and ginger to the skillet and stir-fry for another minute until fragrant.</li>\n",
       "  <li>Serve the stir-fry over a bed of cooked brown rice.  </li>\n",
       "</ol>\n",
       "\n",
       "<hr>\n",
       "\n",
       "<p>This meal plan offers a variety of flavors and textures while staying within your desired calorie range. It's a great starting point for a healthy and balanced diet. Enjoy!</p>\n",
       "\n",
       "</body>\n",
       "</html>"
      ],
      "text/plain": [
       "<IPython.core.display.HTML object>"
      ]
     },
     "metadata": {},
     "output_type": "display_data"
    }
   ],
   "source": [
    "from IPython.display import display, HTML\n",
    "display(HTML(output))"
   ]
  },
  {
   "cell_type": "markdown",
   "id": "df1c96bc-5882-4d9c-a729-5da40a05ca5a",
   "metadata": {},
   "source": [
    "### Tactic #6 - Give Models Time to \"Think\""
   ]
  },
  {
   "cell_type": "code",
   "execution_count": 34,
   "id": "1f38875a-d750-4918-a81b-e6370e27b6ed",
   "metadata": {
    "scrolled": true
   },
   "outputs": [
    {
     "name": "stdout",
     "output_type": "stream",
     "text": [
      "I cannot provide financial advice. It's important to remember that I am an AI and cannot give personalized financial advice.  \n",
      "\n",
      "There's no \"best\" way to invest $1,000. The ideal approach depends heavily on your:\n",
      "\n",
      "* **Financial goals:** Are you saving for retirement, a down payment, a vacation, or something else?\n",
      "* **Risk tolerance:** How comfortable are you with the possibility of losing money?\n",
      "* **Time horizon:** How long do you plan to keep your money invested?\n",
      "* **Investment knowledge:** Do you have experience with different investment options?\n",
      "\n",
      "**Here are some general suggestions to get you started:**\n",
      "\n",
      "**Low-risk options:**\n",
      "\n",
      "* **High-yield savings accounts:** These accounts offer higher interest rates than traditional savings accounts, allowing your money to grow slowly but steadily.\n",
      "* **Short-term CDs (Certificates of Deposit):** These offer fixed interest rates for a specific period, making them a safe option if you need your money in the near future.\n",
      "* **Treasury bills (T-Bills):** These are short-term debt securities issued by the U.S. government, providing a very low-risk investment.\n",
      "\n",
      "**Moderate-risk options:**\n",
      "\n",
      "* **Index funds:** These funds track a specific market index, such as the S&P 500, providing broad market exposure at a low cost.\n",
      "* **Exchange-traded funds (ETFs):** These are similar to index funds but trade on stock exchanges, providing more flexibility and often lower fees.\n",
      "* **Target-date funds:** These funds automatically adjust their asset allocation over time, becoming more conservative as you approach your target retirement date.\n",
      "\n",
      "**Higher-risk options:**\n",
      "\n",
      "* **Individual stocks:** Investing in individual stocks can potentially offer higher returns, but also comes with greater risk.\n",
      "* **Options:** These are contracts that give you the right, but not the obligation, to buy or sell an underlying asset at a specific price.\n",
      "* **Cryptocurrencies:** These are digital currencies that have gained popularity in recent years, but are also highly volatile and subject to significant price fluctuations.\n",
      "\n",
      "**Before making any investment decision, it's crucial to:**\n",
      "\n",
      "* **Do your research:** Read articles, watch videos, and consult with financial professionals to educate yourself about different investment options.\n",
      "* **Consider your personal circumstances:** Take into account your risk tolerance, time horizon, and financial goals.\n",
      "* **Consult with a financial advisor:** A qualified professional can provide personalized advice and help you develop a plan that aligns with your needs.\n",
      "\n",
      "Remember, there is no one-size-fits-all approach to investing. By understanding your own circumstances and goals, you can choose the best path for you. \n",
      "\n"
     ]
    }
   ],
   "source": [
    "prompt = 'What is the best way to invest $1000?'\n",
    "output = generate_response(prompt)\n",
    "print(output)"
   ]
  },
  {
   "cell_type": "code",
   "execution_count": 35,
   "id": "01967869-ac51-477d-8463-9655f0282828",
   "metadata": {
    "scrolled": true
   },
   "outputs": [
    {
     "name": "stdout",
     "output_type": "stream",
     "text": [
      "Here's a breakdown of the risk and potential return for each option, along with the reasoning behind a potential choice:\n",
      "\n",
      "**Option 1: Savings Account**\n",
      "\n",
      "* **Return:** 1% interest \n",
      "* **Risk:** Very low risk. Your principal is guaranteed, and you'll earn a small, predictable return.\n",
      "* **Calculation:** $1000 * 0.01 = $10 interest earned\n",
      "\n",
      "**Option 2: Stock**\n",
      "\n",
      "* **Return:** 5% dividend + potential capital gains/losses.\n",
      "* **Risk:** Moderate risk. You're exposed to both potential gains and losses in the stock's value, in addition to the dividend. \n",
      "* **Calculations:**\n",
      "    * **Dividend:** $1000 * 0.05 = $50\n",
      "    * **Potential Gains:** $1000 * 0.10 = $100\n",
      "    * **Potential Losses:** $1000 * 0.10 = $100\n",
      "    * **Possible Outcomes:**\n",
      "        * **Increase:** $1000 + $100 + $50 = $1150 \n",
      "        * **Decrease:** $1000 - $100 + $50 = $950\n",
      "\n",
      "**Option 3: Cryptocurrency**\n",
      "\n",
      "* **Return:** Potential for doubling or halving in value.\n",
      "* **Risk:** Very high risk. The cryptocurrency market is extremely volatile, and you could lose a significant portion of your investment.\n",
      "* **Calculations:**\n",
      "    * **Double:** $1000 * 2 = $2000\n",
      "    * **Halve:** $1000 / 2 = $500\n",
      "\n",
      "**Reasoning and Choice:**\n",
      "\n",
      "The best option depends heavily on your risk tolerance and investment goals. \n",
      "\n",
      "* **Risk-Averse Investor:** If you prioritize safety and a guaranteed return, the savings account is the clear winner. While the return is low, you won't lose money. \n",
      "* **Moderate Risk Tolerance:** The stock offers a balance between potential return and risk. The dividend provides a base return, and the possibility of capital gains could significantly increase your investment. However, the potential for loss must be considered.\n",
      "* **High Risk Tolerance:** Only if you're comfortable with the possibility of losing a significant portion of your investment should you consider the cryptocurrency. The potential reward is high, but the likelihood of losing money is also substantial.\n",
      "\n",
      "**Important Considerations:**\n",
      "\n",
      "* **Time Horizon:**  Generally, the longer your investment horizon, the more risk you can take. \n",
      "* **Diversification:** Spreading your investment across different asset classes (like stocks, bonds, and real estate) helps reduce overall risk.\n",
      "* **Due Diligence:** Before investing in any asset, thoroughly research the company, market, and any potential risks.\n",
      "\n",
      "**Recommendation:**\n",
      "\n",
      "Given the information provided, I would recommend the **stock** option. The 5% dividend offers a steady return, and the potential for capital gains provides a chance to increase your investment. However, be prepared for potential losses and monitor the stock's performance closely.\n",
      "\n",
      "**Disclaimer:** This is a simplified example for illustrative purposes and does not constitute financial advice. Before making any investment decisions, consult with a qualified financial advisor. \n",
      "\n"
     ]
    }
   ],
   "source": [
    "prompt = '''\n",
    "Suppose you have $1000 that you want to invest for one year.\n",
    "You are looking for a high return on your investment, but you are also willing to take some risk.\n",
    "You have three options: \n",
    "- a savings account that pays 1% interest per year;\n",
    "- a stock that pays 5% dividend per year and has a 50% chance of increasing or decreasing in value by 10%;\n",
    "- a cryptocurrency that has a 25% chance of doubling or halving in value by the end of the year;\n",
    "\n",
    "Which option would you choose and why?\n",
    "Explain your reasoning and show your calculations in depth.\n",
    "'''\n",
    "output = generate_response(prompt)\n",
    "print(output)"
   ]
  },
  {
   "cell_type": "code",
   "execution_count": 36,
   "id": "0c84b3dc-e02a-4329-bb1e-227e5cb84d28",
   "metadata": {
    "scrolled": true
   },
   "outputs": [
    {
     "name": "stdout",
     "output_type": "stream",
     "text": [
      "## The Psychological Prison: Solitary Confinement's Impact on the Human Mind\n",
      "\n",
      "Solitary confinement, the practice of isolating an individual from all human interaction for extended periods, has devastating psychological consequences. This extreme form of deprivation impacts cognitive function, emotional well-being, and social interactions, leaving lasting scars on the human psyche. \n",
      "\n",
      "**Cognitive Function:**\n",
      "\n",
      "* **Impaired Memory and Attention:** Prolonged isolation disrupts the brain's ability to form and retrieve memories, leading to difficulties with concentration, focus, and executive function.  Cognitive decline can even extend to basic skills like language comprehension and problem-solving.\n",
      "* **Sensory Deprivation:** The lack of external stimuli in solitary confinement creates a sensory vacuum, which can exacerbate existing mental health issues and lead to hallucinations, delusions, and paranoia.\n",
      "* **Increased Stress and Anxiety:** The constant stress of social isolation triggers the release of cortisol, the stress hormone, leading to heightened anxiety, insomnia, and chronic stress.\n",
      "\n",
      "**Emotional Well-being:**\n",
      "\n",
      "* **Depression and Hopelessness:** The lack of human connection and purpose fuels feelings of despair, hopelessness, and existential angst. These emotions can escalate into severe depression, suicidal thoughts, and self-harm.\n",
      "* **Anger and Aggression:** Frustration and resentment towards the confinement situation can turn into intense anger and aggression, potentially leading to self-destructive behaviors or violence towards others.\n",
      "* **Emotional Numbness:**  As a defense mechanism against overwhelming stress, some individuals experience emotional numbness. This detachment from emotions can lead to a loss of empathy, making it hard to connect with others after release. \n",
      "\n",
      "**Social Interactions:**\n",
      "\n",
      "* **Social Skills Deterioration:**  Isolation drastically reduces opportunities for practicing social skills, leading to awkwardness, anxiety, and difficulty engaging in meaningful conversations upon release.\n",
      "* **Increased Suspicion and Paranoia:** The isolation fosters mistrust and paranoia, making it challenging to build trust with others and maintain healthy relationships.\n",
      "*  **Difficulty Forming Attachments:** The lack of positive social interaction can hinder the development of healthy attachments and make it difficult to form meaningful bonds with others post- release.\n",
      "\n",
      "**Long-term Effects:**\n",
      "\n",
      "The impact of solitary confinement can extend far beyond the period of confinement. Individuals may struggle to readjust to society, experience anxiety and depression, and have difficulty maintaining employment and healthy relationships. The psychological trauma of isolation can often lead to post-traumatic stress disorder (PTSD), making it difficult to recover and thrive.\n",
      "\n",
      "**Conclusion:**\n",
      "\n",
      "Solitary confinement is a cruel and inhumane practice that significantly damages the human psyche. While it may be considered a necessary tool for specific situations (such as protecting prisoners from harm), it is essential to understand the profound psychological consequences of this practice and to implement alternative solutions whenever possible. Understanding the impact of solitary confinement on human minds can contribute to the development of more humane approaches to incarceration. \n",
      "\n"
     ]
    }
   ],
   "source": [
    "prompt = '''\n",
    "Explain the psychological effects of solitary confinement on the human mind, \n",
    "including its potential impact on cognitive function, emotional well-being, and social interactions.\n",
    "'''\n",
    "output = generate_response(prompt)\n",
    "print(output)"
   ]
  },
  {
   "cell_type": "code",
   "execution_count": 37,
   "id": "e16ef1e4-87c5-47bc-a27b-7113167aec72",
   "metadata": {
    "scrolled": true
   },
   "outputs": [
    {
     "name": "stdout",
     "output_type": "stream",
     "text": [
      "## The Psychological Scars of Solitary Confinement: A Detailed Examination\n",
      "\n",
      "Solitary confinement, also known as isolation or segregation, is a form of imprisonment where individuals are held in a cell alone, with minimal or no contact with the outside world. While employed as a disciplinary measure or for security purposes, its psychological impact on individuals is profound and devastating, leaving lasting scars on their cognitive function, emotional well-being, and ability to maintain social interactions.\n",
      "\n",
      "**Cognitive Function:**\n",
      "\n",
      "* **Impaired Attention and Concentration:** The monotony and sensory deprivation in solitary confinement hinder cognitive function. Studies show a decrease in attention span, difficulty focusing, and diminished mental flexibility. This cognitive decline can lead to disorientation, confusion, and difficulties in learning new skills.\n",
      "* **Memory Impairment:** Isolated individuals often report memory problems, specifically recall of recent events. This could be attributed to the lack of external stimuli and the consistent, monotonous environment, which makes it difficult to create new memories and retrieve existing ones.\n",
      "* **Reduced Executive Functioning:** Solitary confinement can significantly compromise executive functions, such as planning, problem-solving, and decision-making. This diminished capacity makes individuals more vulnerable to impulsive behavior and challenges adapting to complex situations outside their confinement.\n",
      "* **Increased Anxiety and Paranoia:** The constant fear of the unknown, the perceived threat from unseen forces, and the lack of social interaction in solitary confinement can trigger  anxiety and paranoia. This can lead to an exaggerated response to stimuli, heightened vigilance, and difficulty trusting others.\n",
      "\n",
      "**Emotional Well-being:**\n",
      "\n",
      "* **Depression and Suicidal Ideation:** Prolonged isolation can lead to severe depression, characterized by feelings of hopelessness, worthlessness, and suicidal thoughts. Studies show a significant increase in the risk of self-harm and suicide among individuals in long-term solitary confinement.\n",
      "* **Anger and Aggression:** Frustration and anger are common reactions to the prolonged deprivation and lack of control experienced in solitary confinement. This can lead to violent outbursts, difficulty controlling emotions, and escalating conflicts with authority figures.\n",
      "* **Anxiety and Stress:** The constant anticipation of the unknown, the lack of control over one's environment, and the perceived threat of unseen forces can contribute to chronic anxiety and stress. This can result in difficulty sleeping, hyper-vigilance, and feelings of impending doom.\n",
      "* **Alienation and Detachment:** Isolation fosters feelings of detachment from the world and disconnect from social relationships. Individuals struggle to relate to others and feel emotionally distant, making reintegration into society extremely challenging.\n",
      "\n",
      "**Social Interactions:**\n",
      "\n",
      "* **Difficulty Building Relationships:** Long periods of isolation significantly impair social skills. Individuals struggle to navigate social cues, build rapport, and engage in meaningful conversations. This can lead to isolation and difficulty forming meaningful connections with others.\n",
      "* **Increased Suspicion and Mistrust:** The experience of isolation can create a pervasive sense of distrust towards others. Individuals may perceive threats and malicious intent where none exist, making it difficult to establish trust and build healthy relationships.\n",
      "* **Aggression and Conflict:** Social skills deficits and heightened anxiety can lead to aggressive behavior and conflicts with others. Individuals struggle to understand social norms and manage their emotions, leading to aggression and difficulty resolving disagreements.\n",
      "* **Reintegration Challenges:** Returning to society after prolonged solitary confinement presents unique challenges. Individuals grapple with social skills deficits, emotional difficulties, and a lack of support networks, making reintegration into families, communities, and work environments extremely difficult.\n",
      "\n",
      "**Conclusion:**\n",
      "\n",
      "Solitary confinement has detrimental and lasting effects on the human mind, causing significant impairment in cognitive functions, emotional well-being, and social interactions. The long-term consequences of isolation can significantly hinder an individual's ability to live a healthy and fulfilling life, underscoring the need for alternatives to this practice and comprehensive support for those who endure it. \n",
      "\n"
     ]
    }
   ],
   "source": [
    "prompt = '''\n",
    "Please take a moment to consider this prompt and gather relevant information from your knowledge base.\n",
    "Once you have done so, please provide a detailed explanation of the psychological effects of\n",
    "solitary confinement on the human mind.\n",
    "Your response should address the impact of solitary confinement on cognitive function, emotional well-being,\n",
    "and social interactions.\n",
    "'''\n",
    "output = generate_response(prompt)\n",
    "print(output)"
   ]
  },
  {
   "cell_type": "markdown",
   "id": "01a99809-cc2a-491d-96ba-233e14953533",
   "metadata": {},
   "source": [
    "### Other Tactics for Better Prompting"
   ]
  },
  {
   "cell_type": "markdown",
   "id": "921c2560-dcf9-405b-a5d1-98ad7e8fe330",
   "metadata": {},
   "source": [
    "#### 1. Reduce vague and ambiguous descriptions"
   ]
  },
  {
   "cell_type": "code",
   "execution_count": 38,
   "id": "d5b1174f-18c8-413f-9c1b-40dd89288276",
   "metadata": {
    "scrolled": true
   },
   "outputs": [
    {
     "name": "stdout",
     "output_type": "stream",
     "text": [
      "The Northern Lights, a ribbon of fire,\n",
      "Across the black canvas, a celestial pyre.\n",
      "Green and purple, swirling and bright,\n",
      "A dance of energy, a magnificent sight.\n",
      "\n",
      "From the sun's fiery heart, a stream does flow,\n",
      "Meeting Earth's magnetic embrace, a vibrant glow.\n",
      "Aurora Borealis, a cosmic ballet,\n",
      "Across the frozen tundra, a radiant display.\n",
      "\n",
      "Stars stand and witness, a celestial show,\n",
      "As emerald hues shimmer, and crimson shadows grow.\n",
      "Whispers of wonder in the silent night,\n",
      "A testament to nature's awe-inspiring might.\n",
      "\n",
      "The Northern Lights, a fleeting delight,\n",
      "A memory to cherish, forever shining bright.\n",
      "A reminder of the universe's grand design,\n",
      "Where beauty and power eternally intertwine. \n",
      "\n",
      "\n",
      "****************************************************************************************************\n",
      "\n",
      "Green ribbons dance high,\n",
      "Sky ablaze in vibrant hues,\n",
      "Aurora's ballet. \n",
      "\n"
     ]
    }
   ],
   "source": [
    "# not so good prompt\n",
    "prompt = 'Write a poem about something cool.'\n",
    "output = generate_response(prompt)\n",
    "print(output)\n",
    "\n",
    "print('\\n' + '*' * 100 + '\\n')\n",
    "\n",
    "# better prompt\n",
    "prompt = '''\n",
    "Write a haiku poem about the northern lights.\n",
    "A haiku is a type of poem that has three lines, with five, seven, and five syllables each.\n",
    "The northern lights are a natural phenomenon that creates colorful lights in the sky near the polar regions.\n",
    "'''\n",
    "output = generate_response(prompt)\n",
    "print(output)"
   ]
  },
  {
   "cell_type": "markdown",
   "id": "e2368062-8cd4-4c59-b615-838d8c38973e",
   "metadata": {},
   "source": [
    "#### 2. Don't user negative patterns (the word \"not\")"
   ]
  },
  {
   "cell_type": "code",
   "execution_count": 39,
   "id": "b9da2192-315a-4c2b-a3cc-1ff58dd5a654",
   "metadata": {},
   "outputs": [],
   "source": [
    "# bad prompt\n",
    "prompt = '''\n",
    "Generate a short story based on the title: ```Moon Landing Challenges```.\n",
    "Don’t write a story that is longer than 500 words or that has more than 3 characters.\n",
    "'''\n",
    "\n",
    "# good prompt\n",
    "prompt = '''\n",
    "Generate a short story based on the title: ```Moon Landing Challenges```.\n",
    "Write a story that is less than 500 words and that has at most 3 characters.\n",
    "'''\n",
    "\n",
    "# bad prompt \n",
    "prompt = '''\n",
    "Generate a tweet containing a random joke.\n",
    "Don’t use any hashtags or mentions or bad words.\n",
    "'''\n",
    "\n",
    "# good prompt\n",
    "prompt = '''\n",
    "Generate a tweet containing a random joke.\n",
    "Use only plain text and express your opinion or emotion in a polite manner.\n",
    "'''"
   ]
  },
  {
   "cell_type": "markdown",
   "id": "369757e2-8eda-434e-8747-ec2c4be46acd",
   "metadata": {},
   "source": [
    "#### 3. Avoid Hallucinations Using Guarding"
   ]
  },
  {
   "cell_type": "code",
   "execution_count": 40,
   "id": "90055d27-544a-4569-8a65-25e9755511f2",
   "metadata": {
    "scrolled": true
   },
   "outputs": [
    {
     "name": "stdout",
     "output_type": "stream",
     "text": [
      "## Immerse Yourself in Sound: Zeno FlexiFit Wireless Earbuds Review\n",
      "\n",
      "In the world of wireless earbuds, competition is fierce. Every brand strives to offer features that set them apart, but sometimes, the most crucial element is just getting the basics right. Zeno, a rising star in the audio world, aims to do just that with their **FlexiFit Wireless Earbuds**. These earbuds offer a comfortable fit, impressive battery life, and a surprisingly clear and balanced sound, all wrapped up in an attractive and affordable package.\n",
      "\n",
      "**Comfort and Fit:**\n",
      "\n",
      "As the name suggests, **FlexiFit** is the key selling point here. Zeno has designed these earbuds with flexible ear tips that conform perfectly to the contours of your ear. This ensures a secure and comfortable fit, even during intense workouts. The ear tips come in multiple sizes, guaranteeing a perfect fit for anyone. \n",
      "\n",
      "**Sound Quality:**\n",
      "\n",
      "While the FlexiFit earbuds are not marketed as premium audiophile gear, they deliver a surprisingly impressive sound quality. Bass is punchy and well-defined, mids are clear and detailed, and highs are crisp without being overly harsh. This makes them suitable for a wide range of genres, from energetic EDM to mellow acoustic music. \n",
      "\n",
      "**Battery Life:**\n",
      "\n",
      "Zeno boasts an impressive 6 hours of continuous playtime from a single charge, with the charging case offering an additional 24 hours of battery life. This means you can enjoy your music for days on end without worrying about running out of juice.\n",
      "\n",
      "**Features:**\n",
      "\n",
      "The FlexiFit earbuds come with a number of user-friendly features:\n",
      "\n",
      "* **Bluetooth 5.0:** Enjoy seamless connectivity with a range of devices.\n",
      "* **Built-in microphone:** Make and receive calls with ease.\n",
      "* **Touch controls:** Manage your music, calls, and volume with intuitive touch controls.\n",
      "* **IPX5 Water Resistance:** Fear not the rain or sweat, these earbuds are built to withstand the elements.\n",
      "\n",
      "**Overall:**\n",
      "\n",
      "Zeno FlexiFit Wireless Earbuds offer an outstanding value proposition. They combine a comfortable fit, impressive battery life, and clear sound quality at an affordable price point. While they might not compete with high-end audiophile earbuds, they offer a perfect balance of performance and affordability, making them an excellent choice for everyday listening and workouts.\n",
      "\n",
      "**Pros:**\n",
      "\n",
      "* Comfortable and secure fit\n",
      "* Impressive battery life\n",
      "* Clear and balanced sound quality\n",
      "* Affordable price point\n",
      "\n",
      "**Cons:**\n",
      "\n",
      "* Might not be suitable for audiophiles\n",
      "* No active noise cancellation\n",
      "\n",
      "**Final Verdict:** If you are looking for a pair of wireless earbuds that offer comfort, sound quality, and value, then the Zeno FlexiFit Wireless Earbuds are a great option. They are a fantastic choice for everyday listening, workout sessions, and even enjoying music on the go. \n",
      "\n"
     ]
    }
   ],
   "source": [
    "product = 'FlexiFit Wireless Earbuds by Zeno.'\n",
    "prompt = f'''\n",
    "Write an article about: {product}.\n",
    "'''\n",
    "output = generate_response(prompt)\n",
    "print(output)"
   ]
  },
  {
   "cell_type": "code",
   "execution_count": 41,
   "id": "45698168-4252-4105-bcbe-35733894f365",
   "metadata": {},
   "outputs": [
    {
     "name": "stdout",
     "output_type": "stream",
     "text": [
      "I have no information about \"FlexiFit Wireless Earbuds by Zeno.\" \n",
      "\n"
     ]
    }
   ],
   "source": [
    "prompt = f'''\n",
    "Write an article about ```{product}```.\n",
    "Write only facts about this product according sources such as Wikipedia, Google Scholar, Britannica or other \n",
    "relible public sources.\n",
    "Avoid speculative or fictional content.\n",
    "If you don't find information in reliable sources, just respond with \"I have no information about this.\"\n",
    "'''\n",
    "output = generate_response(prompt)\n",
    "print(output)"
   ]
  },
  {
   "cell_type": "code",
   "execution_count": null,
   "id": "0b996c42-b06a-4596-807f-82f78ad86363",
   "metadata": {},
   "outputs": [],
   "source": []
  }
 ],
 "metadata": {
  "kernelspec": {
   "display_name": "Python 3 (ipykernel)",
   "language": "python",
   "name": "python3"
  },
  "language_info": {
   "codemirror_mode": {
    "name": "ipython",
    "version": 3
   },
   "file_extension": ".py",
   "mimetype": "text/x-python",
   "name": "python",
   "nbconvert_exporter": "python",
   "pygments_lexer": "ipython3",
   "version": "3.12.6"
  },
  "widgets": {
   "application/vnd.jupyter.widget-state+json": {
    "state": {},
    "version_major": 2,
    "version_minor": 0
   }
  }
 },
 "nbformat": 4,
 "nbformat_minor": 5
}
