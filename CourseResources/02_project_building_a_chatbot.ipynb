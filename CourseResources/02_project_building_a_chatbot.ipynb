{
 "cells": [
  {
   "cell_type": "code",
   "execution_count": 1,
   "id": "a62d8715-277d-46a4-ae0c-16e2b35ac613",
   "metadata": {},
   "outputs": [],
   "source": [
    "# Importing the libraries.\n",
    "import google.generativeai as genai\n",
    "import os\n",
    "from dotenv import load_dotenv, find_dotenv\n",
    "\n",
    "# Loading the API key and authenticating to Gemini.\n",
    "load_dotenv(find_dotenv(), override=True)\n",
    "os.environ.get('GOOGLE_API_KEY')\n",
    "\n",
    "# Configuring the API key.\n",
    "genai.configure(api_key=os.environ.get('GOOGLE_API_KEY'))"
   ]
  },
  {
   "cell_type": "code",
   "execution_count": 2,
   "id": "ea7bf083-3042-4165-91b2-75e7172b3128",
   "metadata": {},
   "outputs": [
    {
     "data": {
      "text/plain": [
       "ChatSession(\n",
       "    model=genai.GenerativeModel(\n",
       "        model_name='models/gemini-1.5-flash',\n",
       "        generation_config={},\n",
       "        safety_settings={},\n",
       "        tools=None,\n",
       "        system_instruction=None,\n",
       "        cached_content=None\n",
       "    ),\n",
       "    history=[]\n",
       ")"
      ]
     },
     "execution_count": 2,
     "metadata": {},
     "output_type": "execute_result"
    }
   ],
   "source": [
    "model = genai.GenerativeModel('gemini-1.5-flash')\n",
    "chat = model.start_chat(history=[])\n",
    "chat"
   ]
  },
  {
   "cell_type": "code",
   "execution_count": 3,
   "id": "4f249923-51fa-445d-9c13-c6d4638b1c18",
   "metadata": {},
   "outputs": [],
   "source": [
    "response = chat.send_message('In one paragraph, explain how the Internet works to a beginner.')"
   ]
  },
  {
   "cell_type": "code",
   "execution_count": 4,
   "id": "62413701-f982-4485-be72-079b59616190",
   "metadata": {},
   "outputs": [
    {
     "data": {
      "text/plain": [
       "[parts {\n",
       "   text: \"In one paragraph, explain how the Internet works to a beginner.\"\n",
       " }\n",
       " role: \"user\",\n",
       " parts {\n",
       "   text: \"The internet is like a giant network of interconnected computers, where data travels as tiny packets, like letters, between them. When you visit a website, your computer sends a request to the website\\'s server. The server then sends back the website\\'s data, which your computer interprets and displays on your screen. This communication happens through a series of cables and wireless connections, with routers and other devices helping to direct the data packets to the right place. \\n\"\n",
       " }\n",
       " role: \"model\"]"
      ]
     },
     "execution_count": 4,
     "metadata": {},
     "output_type": "execute_result"
    }
   ],
   "source": [
    "chat.history"
   ]
  },
  {
   "cell_type": "code",
   "execution_count": 5,
   "id": "19806e48-20d8-42d0-8266-ae81547862b9",
   "metadata": {},
   "outputs": [
    {
     "data": {
      "text/plain": [
       "parts {\n",
       "  text: \"In one paragraph, explain how the Internet works to a beginner.\"\n",
       "}\n",
       "role: \"user\""
      ]
     },
     "execution_count": 5,
     "metadata": {},
     "output_type": "execute_result"
    }
   ],
   "source": [
    "chat.history[0]"
   ]
  },
  {
   "cell_type": "code",
   "execution_count": 6,
   "id": "ed52f2f9-b6af-44c8-9dbd-571b36b0ac71",
   "metadata": {},
   "outputs": [
    {
     "data": {
      "text/plain": [
       "parts {\n",
       "  text: \"The internet is like a giant network of interconnected computers, where data travels as tiny packets, like letters, between them. When you visit a website, your computer sends a request to the website\\'s server. The server then sends back the website\\'s data, which your computer interprets and displays on your screen. This communication happens through a series of cables and wireless connections, with routers and other devices helping to direct the data packets to the right place. \\n\"\n",
       "}\n",
       "role: \"model\""
      ]
     },
     "execution_count": 6,
     "metadata": {},
     "output_type": "execute_result"
    }
   ],
   "source": [
    "chat.history[1]\n"
   ]
  },
  {
   "cell_type": "code",
   "execution_count": 7,
   "id": "789e1ae9-7dc1-4e22-91e7-e0ee701344ea",
   "metadata": {},
   "outputs": [
    {
     "data": {
      "text/plain": [
       "\"The internet is like a giant network of interconnected computers, where data travels as tiny packets, like letters, between them. When you visit a website, your computer sends a request to the website's server. The server then sends back the website's data, which your computer interprets and displays on your screen. This communication happens through a series of cables and wireless connections, with routers and other devices helping to direct the data packets to the right place. \\n\""
      ]
     },
     "execution_count": 7,
     "metadata": {},
     "output_type": "execute_result"
    }
   ],
   "source": [
    "chat.history[1].parts[0].text"
   ]
  },
  {
   "cell_type": "code",
   "execution_count": 8,
   "id": "f7f74365-cb08-4818-bf60-d44ca9a687be",
   "metadata": {},
   "outputs": [],
   "source": [
    "response = chat.send_message('Okay, how about a more detailed explanation about the IP addresses?')"
   ]
  },
  {
   "cell_type": "code",
   "execution_count": 9,
   "id": "5237a7ff-8696-4345-9e2e-c1eddc701fb6",
   "metadata": {},
   "outputs": [
    {
     "data": {
      "text/plain": [
       "[parts {\n",
       "   text: \"In one paragraph, explain how the Internet works to a beginner.\"\n",
       " }\n",
       " role: \"user\",\n",
       " parts {\n",
       "   text: \"The internet is like a giant network of interconnected computers, where data travels as tiny packets, like letters, between them. When you visit a website, your computer sends a request to the website\\'s server. The server then sends back the website\\'s data, which your computer interprets and displays on your screen. This communication happens through a series of cables and wireless connections, with routers and other devices helping to direct the data packets to the right place. \\n\"\n",
       " }\n",
       " role: \"model\",\n",
       " parts {\n",
       "   text: \"Okay, how about a more detailed explanation about the IP addresses?\"\n",
       " }\n",
       " role: \"user\",\n",
       " parts {\n",
       "   text: \"Imagine each computer connected to the internet has a unique address, like a house number, called an IP address.  This address allows computers to find each other and exchange data. An IP address is a series of numbers, like 192.168.1.1, that identifies a specific device on the network. It\\'s like a postal code for the internet, directing data packets to the correct destination. \\n\\nThere are two main types of IP addresses:\\n\\n* **IPv4:** This is the older version, using four sets of numbers between 0 and 255 separated by dots. However, with billions of devices online, IPv4 addresses are running out.\\n* **IPv6:** This newer version uses longer, more complex addresses to accommodate the increasing number of devices on the internet. \\n\\nWhen you visit a website, your computer uses the website\\'s IP address to establish a connection and retrieve the data. It\\'s like looking up a specific address to find the right house in a massive city!\\n\"\n",
       " }\n",
       " role: \"model\"]"
      ]
     },
     "execution_count": 9,
     "metadata": {},
     "output_type": "execute_result"
    }
   ],
   "source": [
    "chat.history"
   ]
  },
  {
   "cell_type": "code",
   "execution_count": 10,
   "id": "88af2f9f-7628-461f-b064-b093de975b0b",
   "metadata": {},
   "outputs": [
    {
     "data": {
      "text/plain": [
       "[parts {\n",
       "   text: \"In one paragraph, explain how the Internet works to a beginner.\"\n",
       " }\n",
       " role: \"user\",\n",
       " parts {\n",
       "   text: \"The internet is like a giant network of interconnected computers, where data travels as tiny packets, like letters, between them. When you visit a website, your computer sends a request to the website\\'s server. The server then sends back the website\\'s data, which your computer interprets and displays on your screen. This communication happens through a series of cables and wireless connections, with routers and other devices helping to direct the data packets to the right place. \\n\"\n",
       " }\n",
       " role: \"model\",\n",
       " parts {\n",
       "   text: \"Okay, how about a more detailed explanation about the IP addresses?\"\n",
       " }\n",
       " role: \"user\",\n",
       " parts {\n",
       "   text: \"Imagine each computer connected to the internet has a unique address, like a house number, called an IP address.  This address allows computers to find each other and exchange data. An IP address is a series of numbers, like 192.168.1.1, that identifies a specific device on the network. It\\'s like a postal code for the internet, directing data packets to the correct destination. \\n\\nThere are two main types of IP addresses:\\n\\n* **IPv4:** This is the older version, using four sets of numbers between 0 and 255 separated by dots. However, with billions of devices online, IPv4 addresses are running out.\\n* **IPv6:** This newer version uses longer, more complex addresses to accommodate the increasing number of devices on the internet. \\n\\nWhen you visit a website, your computer uses the website\\'s IP address to establish a connection and retrieve the data. It\\'s like looking up a specific address to find the right house in a massive city!\\n\"\n",
       " }\n",
       " role: \"model\",\n",
       " parts {\n",
       "   text: \"What have I asked you so far\"\n",
       " }\n",
       " role: \"user\",\n",
       " parts {\n",
       "   text: \"You asked me two questions:\\n\\n1. **To explain how the internet works to a beginner.** You wanted a simple and easy-to-understand explanation of the internet, focusing on the basic concepts of data transfer and interconnected computers.\\n2. **To provide a more detailed explanation about IP addresses.** You were interested in understanding how IP addresses work as unique identifiers for computers on the internet, their different types (IPv4 and IPv6), and their role in directing data packets to the right destination. \\n\"\n",
       " }\n",
       " role: \"model\"]"
      ]
     },
     "execution_count": 10,
     "metadata": {},
     "output_type": "execute_result"
    }
   ],
   "source": [
    "response = chat.send_message('What have I asked you so far')\n",
    "chat.history"
   ]
  },
  {
   "cell_type": "code",
   "execution_count": 11,
   "id": "4a5b8eb7-42d6-40ea-af07-6c48a9fe4e82",
   "metadata": {},
   "outputs": [
    {
     "name": "stdout",
     "output_type": "stream",
     "text": [
      "You asked me two questions:\n",
      "\n",
      "1. **To explain how the internet works to a beginner.** You wanted a simple and easy-to-understand explanation of the internet, focusing on the basic concepts of data transfer and interconnected computers.\n",
      "2. **To provide a more detailed explanation about IP addresses.** You were interested in understanding how IP addresses work as unique identifiers for computers on the internet, their different types (IPv4 and IPv6), and their role in directing data packets to the right destination. \n",
      "\n"
     ]
    }
   ],
   "source": [
    "print(chat.history[-1].parts[0].text)"
   ]
  },
  {
   "cell_type": "code",
   "execution_count": 12,
   "id": "9fb05515-0ce8-42a3-a65e-02ae84dea3d0",
   "metadata": {},
   "outputs": [
    {
     "name": "stdout",
     "output_type": "stream",
     "text": [
      "User: In one paragraph, explain how the Internet works to a beginner.\n",
      "----------------------------------------------------------------------------------------------------\n",
      "Model: The internet is like a giant network of interconnected computers, where data travels as tiny packets, like letters, between them. When you visit a website, your computer sends a request to the website's server. The server then sends back the website's data, which your computer interprets and displays on your screen. This communication happens through a series of cables and wireless connections, with routers and other devices helping to direct the data packets to the right place. \n",
      "\n",
      "----------------------------------------------------------------------------------------------------\n",
      "User: Okay, how about a more detailed explanation about the IP addresses?\n",
      "----------------------------------------------------------------------------------------------------\n",
      "Model: Imagine each computer connected to the internet has a unique address, like a house number, called an IP address.  This address allows computers to find each other and exchange data. An IP address is a series of numbers, like 192.168.1.1, that identifies a specific device on the network. It's like a postal code for the internet, directing data packets to the correct destination. \n",
      "\n",
      "There are two main types of IP addresses:\n",
      "\n",
      "* **IPv4:** This is the older version, using four sets of numbers between 0 and 255 separated by dots. However, with billions of devices online, IPv4 addresses are running out.\n",
      "* **IPv6:** This newer version uses longer, more complex addresses to accommodate the increasing number of devices on the internet. \n",
      "\n",
      "When you visit a website, your computer uses the website's IP address to establish a connection and retrieve the data. It's like looking up a specific address to find the right house in a massive city!\n",
      "\n",
      "----------------------------------------------------------------------------------------------------\n",
      "User: What have I asked you so far\n",
      "----------------------------------------------------------------------------------------------------\n",
      "Model: You asked me two questions:\n",
      "\n",
      "1. **To explain how the internet works to a beginner.** You wanted a simple and easy-to-understand explanation of the internet, focusing on the basic concepts of data transfer and interconnected computers.\n",
      "2. **To provide a more detailed explanation about IP addresses.** You were interested in understanding how IP addresses work as unique identifiers for computers on the internet, their different types (IPv4 and IPv6), and their role in directing data packets to the right destination. \n",
      "\n",
      "----------------------------------------------------------------------------------------------------\n"
     ]
    }
   ],
   "source": [
    "for item in chat.history:\n",
    "    print(f'{item.role.capitalize()}: {item.parts[0].text}')\n",
    "    print('-' * 100)"
   ]
  },
  {
   "cell_type": "markdown",
   "id": "236f63aa-f040-4dd2-900d-7c5e4ce783fd",
   "metadata": {},
   "source": [
    "## Project: Building a Conversational Agent Using Gemini Pro\n",
    "\n",
    "Google AI Studio and the Gemini API aren't available in all countries.\n",
    "Check if the Gemini API is available in your country at this address: \n",
    "https://ai.google.dev/available_regions\n"
   ]
  },
  {
   "cell_type": "code",
   "execution_count": 13,
   "id": "35f3b144-320a-4919-b668-89e3b325e6f1",
   "metadata": {},
   "outputs": [],
   "source": [
    "# Importing the libraries.\n",
    "import google.generativeai as genai\n",
    "import os\n",
    "from dotenv import load_dotenv, find_dotenv\n",
    "\n",
    "# Loading the API key and authenticating to Gemini.\n",
    "load_dotenv(find_dotenv(), override=True)\n",
    "os.environ.get('GOOGLE_API_KEY')\n",
    "\n",
    "# Configuring the API key.\n",
    "genai.configure(api_key=os.environ.get('GOOGLE_API_KEY'))\n"
   ]
  },
  {
   "cell_type": "code",
   "execution_count": 14,
   "id": "862d7a89-2c66-4759-8510-75ae31c59212",
   "metadata": {},
   "outputs": [
    {
     "name": "stdin",
     "output_type": "stream",
     "text": [
      "User:  quit\n"
     ]
    },
    {
     "name": "stdout",
     "output_type": "stream",
     "text": [
      "Quitting ...\n",
      "Bye-bye!\n"
     ]
    }
   ],
   "source": [
    "import time\n",
    "model = genai.GenerativeModel('gemini-pro')\n",
    "chat = model.start_chat(history=[])\n",
    "while True:\n",
    "    prompt = input('User: ')\n",
    "    if prompt.lower() not in ['exit', 'quit', 'bye']:\n",
    "        response = chat.send_message(prompt)\n",
    "        print(f'{chat.history[-1].role.capitalize()}: {chat.history[-1].parts[0].text}')\n",
    "        print('\\n' + '*' * 100 + '\\n')\n",
    "    else:\n",
    "        print('Quitting ...')\n",
    "        time.sleep(2)\n",
    "        print('Bye-bye!')\n",
    "        break\n",
    "        "
   ]
  },
  {
   "cell_type": "code",
   "execution_count": null,
   "id": "3b30f58c-e44d-4465-bbf3-711a142fcfca",
   "metadata": {},
   "outputs": [],
   "source": []
  }
 ],
 "metadata": {
  "kernelspec": {
   "display_name": "Python 3 (ipykernel)",
   "language": "python",
   "name": "python3"
  },
  "language_info": {
   "codemirror_mode": {
    "name": "ipython",
    "version": 3
   },
   "file_extension": ".py",
   "mimetype": "text/x-python",
   "name": "python",
   "nbconvert_exporter": "python",
   "pygments_lexer": "ipython3",
   "version": "3.12.6"
  },
  "widgets": {
   "application/vnd.jupyter.widget-state+json": {
    "state": {},
    "version_major": 2,
    "version_minor": 0
   }
  }
 },
 "nbformat": 4,
 "nbformat_minor": 5
}
