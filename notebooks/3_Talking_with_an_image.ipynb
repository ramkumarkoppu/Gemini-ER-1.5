{
  "cells": [
    {
      "cell_type": "code",
      "execution_count": null,
      "metadata": {},
      "outputs": [],
      "source": [
        "import os\n",
        "import google.generativeai as genai\n",
        "import cv2\n",
        "from typing import Optional\n",
        "from IPython.display import display, clear_output\n",
        "from PIL import Image\n"
      ]
    },
    {
      "cell_type": "code",
      "execution_count": null,
      "metadata": {},
      "outputs": [],
      "source": [
        "# Provide the API key.\n",
        "genai.configure(api_key=os.environ.get(\"GOOGLE_API_KEY\"))\n"
      ]
    },
    {
      "cell_type": "code",
      "execution_count": null,
      "metadata": {},
      "outputs": [],
      "source": [
        "image_path = input(\"Enter image path or type 'camera': \").strip()\n",
        "\n",
        "camera_index = 0\n",
        "continuous_stream = False\n",
        "frame_width = None  # e.g. 1280\n",
        "frame_height = None  # e.g. 720\n",
        "cap: Optional[cv2.VideoCapture] = None\n",
        "\n",
        "if image_path.lower() != \"camera\":\n",
        "    if not os.path.isfile(image_path):\n",
        "        raise SystemExit(\"Invalid path! Exiting...\")\n"
      ]
    },
    {
      "cell_type": "code",
      "execution_count": null,
      "metadata": {},
      "outputs": [],
      "source": [
        "def open_camera(index: int = 0, width: Optional[int] = None, height: Optional[int] = None) -> cv2.VideoCapture:\n",
        "    camera = cv2.VideoCapture(index)\n",
        "    if not camera.isOpened():\n",
        "        raise RuntimeError(f\"Unable to open camera index {index}\")\n",
        "    if width:\n",
        "        camera.set(cv2.CAP_PROP_FRAME_WIDTH, width)\n",
        "    if height:\n",
        "        camera.set(cv2.CAP_PROP_FRAME_HEIGHT, height)\n",
        "    return camera\n",
        "\n",
        "\n",
        "def capture_frame(camera: cv2.VideoCapture) -> Image.Image:\n",
        "    if camera is None:\n",
        "        raise RuntimeError(\"Camera has not been initialized.\")\n",
        "    ok, frame = camera.read()\n",
        "    if not ok:\n",
        "        raise RuntimeError(\"Failed to capture frame from camera.\")\n",
        "    rgb_frame = cv2.cvtColor(frame, cv2.COLOR_BGR2RGB)\n",
        "    return Image.fromarray(rgb_frame)\n",
        "\n",
        "\n",
        "def show_frame(pil_image: Image.Image) -> None:\n",
        "    clear_output(wait=True)\n",
        "    display(pil_image)\n"
      ]
    },
    {
      "cell_type": "code",
      "execution_count": null,
      "metadata": {},
      "outputs": [],
      "source": [
        "if image_path.lower() == \"camera\":\n",
        "    cap = open_camera(camera_index, frame_width, frame_height)\n",
        "    current_image = capture_frame(cap)\n",
        "    show_frame(current_image)\n",
        "else:\n",
        "    current_image = Image.open(image_path)\n",
        "    display(current_image)\n"
      ]
    },
    {
      "cell_type": "code",
      "execution_count": null,
      "metadata": {},
      "outputs": [],
      "source": [
        "model = genai.GenerativeModel(\"gemini-2.5-pro\")\n"
      ]
    },
    {
      "cell_type": "code",
      "execution_count": null,
      "metadata": {},
      "outputs": [],
      "source": [
        "try:\n",
        "    while True:\n",
        "        prompt = input(\"Ask something: \")\n",
        "        if prompt.lower() in (\"exit\", \"quit\", \"bye\"):\n",
        "            print(\"Exiting...\")\n",
        "            break\n",
        "\n",
        "        if image_path.lower() == \"camera\" and continuous_stream:\n",
        "            current_image = capture_frame(cap)\n",
        "            show_frame(current_image)\n",
        "\n",
        "        response = model.generate_content([prompt, current_image])\n",
        "        print(\"\\n\" + (response.text or \"\"))\n",
        "        print(\"-\" * 100)\n",
        "finally:\n",
        "    if cap is not None:\n",
        "        cap.release()\n"
      ]
    },
    {
      "cell_type": "markdown",
      "metadata": {},
      "source": [
        "### Usage Notes\n",
        "- Ensure `opencv-python` is installed: `pip install opencv-python`.\n",
        "- Enter `camera` at the prompt to capture a frame from the UVC camera.\n",
        "- Set `continuous_stream = True` in the configuration cell to refresh the frame before each question.\n",
        "- Leave the flag `False` to reuse the initial still frame.\n",
        "- Adjust `camera_index`, `frame_width`, and `frame_height` if your device requires different settings.\n",
        "- The camera resource is released automatically when you exit the loop.\n"
      ]
    }
  ],
  "metadata": {
    "kernelspec": {
      "display_name": "Python 3",
      "language": "python",
      "name": "python3"
    },
    "language_info": {
      "name": "python",
      "version": "3.11",
      "mimetype": "text/x-python",
      "codemirror_mode": {
        "name": "ipython",
        "version": 3
      },
      "pygments_lexer": "ipython3",
      "nbconvert_exporter": "python",
      "file_extension": ".py"
    }
  },
  "nbformat": 4,
  "nbformat_minor": 5
}
